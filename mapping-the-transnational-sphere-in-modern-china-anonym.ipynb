{
 "cells": [
  {
   "cell_type": "markdown",
   "metadata": {
    "tags": [
     "title"
    ]
   },
   "source": [
    "# Mapping the Transnational Public Sphere in modern China: A Bilingual Topic Modeling of the Republican Press (1919-1949)"
   ]
  },
  {
   "cell_type": "markdown",
   "metadata": {
    "tags": [
     "copyright"
    ]
   },
   "source": [
    "[![cc-by-nc-nd](https://licensebuttons.net/l/by-nc-nd/4.0/88x31.png)](https://creativecommons.org/licenses/by-nc-nd/4.0/) \n",
    "©<AUTHOR or ORGANIZATION / FUNDER>. Published by De Gruyter in cooperation with the University of Luxembourg Centre for Contemporary and Digital History. This is an Open Access article distributed under the terms of the [Creative Commons Attribution License CC-BY-NC-ND](https://creativecommons.org/licenses/by-nc-nd/4.0/)"
   ]
  },
  {
   "cell_type": "markdown",
   "metadata": {
    "tags": [
     "disclaimer"
    ]
   },
   "source": [
    " This research has received funding from the Chiang Ching-kuo Foundation for International Scholarly Exchange (Project n°RG004-U-21) and from the European Research Council (ERC) under the European Union’s Horizon 2020 research and innovation programme (grant agreement No 788476)."
   ]
  },
  {
   "cell_type": "markdown",
   "metadata": {
    "tags": [
     "keywords"
    ]
   },
   "source": [
    "modern China, elites, historical newspapers, topic modeling, Sino-American networks"
   ]
  },
  {
   "cell_type": "markdown",
   "metadata": {
    "tags": [
     "abstract"
    ]
   },
   "source": [
    "This paper analyzes the formation of a transnational public sphere in China through the joint empirical study of two key institutions – a transnational organization (the Rotary Club) and the Shanghai periodical press, which has been recognized as the first mass medium for disseminating information in modern China. Methodologically, we rely on structural topic modeling (STM) to harness large corpora of digitized newspapers from a bilingual (Chinese/English) and dynamic perspective. We show that STM has the potential to encompass both the discursive and social aspects of the public sphere and to bridge the gap between previous theoretical and empirical studies. Thanks to STM, we are able to precisely classify and quantify the four main domains of the public sphere (meeting, self-organization, forum, community service) and to model their local and global dimensions. Furthermore, we reveal significant convergences between languages and a growing awareness of global issues during the troubled decades of the Republic (1919-1949). Methodologically, the contribution of this paper is threefold. First, we offer a simple yet efficient solution, based on concordance, to the problem of article segmentation in digitized newspapers. Second, this paper constitutes a rare instance of cross-lingual comparison involving a low-resource language, namely, the Chinese language during its transitional stage between classical and modern Chinese. Third, we demonstrate the value of using a multi-model approach to navigate between different levels of granularity, especially when dealing with corpora of different sizes and structures."
   ]
  },
  {
   "cell_type": "markdown",
   "metadata": {},
   "source": [
    "## Introduction"
   ]
  },
  {
   "cell_type": "markdown",
   "metadata": {},
   "source": [
    "*The Chinese people had developed, the speaker quoted Dr. Wang as stating, the solidarity of family life. Its welfare was the summum bonum of one’s life -- it was what the individual was to live for. The word “family” in China not merely mean, as in the West, the father and mother and their children: it was all inclusive and extended often to the whole clan. But, just as the family life was developed, so the community life was starved. The individual Chinese until recently and only in limited sense, always thought and acted in terms of the family. Therefore, the best things one formed in any city were family property: a family library; a family park; a family hall; a family art treasury, etc. It accounted in very substantial degree, for the lack of public spirit, and public service in Chinese community life. “I cannot think of any other agency as potential as our Rotary clubs to generate this spirit of public service,” he said.* (<cite data-cite=\"626961/N5ILEHTS\"></cite>)"
   ]
  },
  {
   "cell_type": "markdown",
   "metadata": {},
   "source": [
    "In his speech given at the Rotary Inter-City meeting held in Qingdao in 1935, the diplomat and political leader Wang Zhengting called for the formation of a modern public sphere, which he opposed to the traditional, family-centered vision of Chinese society. This excerpt, which was reprinted in several English and Chinese newspapers, raises three fundamental questions. To what extent did Wang’s idealism resonate with broader perceptions and practices of social organization and public discussion? How did the 1935 conference of the Rotary Club situate within the wider range of events and organizations which contributed to shaping the public sphere in modern China? How did the various historical actors used the press to disseminate their ideas and publicize their actions to a broader audience? The question of the emergence of a public sphere in China is an old debate. Early studies in the early 1990s were essentially concerned with theoretical issues, especially the transferability of Western concepts to China (<cite data-cite=\"626961/6M7LWV62\"></cite>,<cite data-cite=\"626961/I283MNWA\"></cite>, <cite data-cite=\"626961/4AQX8HJK\"></cite>, <cite data-cite=\"626961/RRWSXTCT\"></cite>, <cite data-cite=\"626961/KX6J2KTE\"></cite>, reprinted in <cite data-cite=\"626961/U2J8FG4X\"></cite>). On the other hand, empirical studies of civil society organizations, such as local elites in Zhejiang or civil protest in Beijing, sought to illuminate how the public sphere was implemented in practice, but they were restricted to specific local settings (<cite data-cite=\"626961/96H7I4VF\"></cite>, <cite data-cite=\"626961/J8VVKEE7\"></cite>). Since the 2000s, the increasing accessibility of newspapers collections has opened new directions for the study of “public opinion” and has led to a new emphasis on the transnational dimension of the Chinese public sphere (<cite data-cite=\"626961/FY6ZQ7SB\"></cite>, <cite data-cite=\"626961/2689WDL7\"></cite>, <cite data-cite=\"626961/DLHJEUJA\"></cite>). This transnational perspective, which typically focuses on non-state actors and emphasizes circulations and connections across national boundaries, represents a direct challenge to the mainstream narrative of imperialism vs. nationalism, and to the China-centered approach that has dominated the scholarship during the last three decades. Scholars who have used the press to support their investigation of the public sphere have tended to focus on single publications, especially those published during the late Qing dynasty and the early Republic, and they have usually restricted their analysis to specific genres of articles, such as editorials or “free talk” columns (See for instance:  (<cite data-cite=\"626961/GICNI827\"></cite>), <cite data-cite=\"626961/ZV9JTLAI\"></cite>, <cite data-cite=\"626961/HYY7TCKK\"></cite>). Constrained by the limits of human reading capability, they have relied on small samples of manually selected articles, without providing the possibility to contextualize their findings and to assess whether/to what extent the selected texts or passages were representative of larger trends. To alleviate the risk of overstating or simply reinforcing prior assumptions based on elite views like Wang’s binary conceptualization of Chinese society, we need a different approach. "
   ]
  },
  {
   "cell_type": "markdown",
   "metadata": {},
   "source": [
    "This paper brings the debate to a new level through the joint empirical study of two key institutions – a transnational organization, the Rotary Club, and the Shanghai press, which has long been recognized as the first mass medium for disseminating information in modern China, and which constituted the very venue through which non-state organizations like the Rotary Club shaped their social and discursive practices. In this paper, the public sphere is defined as “the space in which state and society, as well as different segments of society, articulate their interests and opinions within culturally and historically defined rules of rationality and propriety”. Following this definition, the public sphere has been conceived as an alternative to armed conflicts, “a key constituent of a social order whose members do not resort to violence in each instance when conflict occurs”. Furthermore, as Rudolf Wagner emphasized, the modern public sphere is not coterminous with the nation but is essentially transnational and international (<cite data-cite=\"626961/FY6ZQ7SB\"></cite>, p.3)."
   ]
  },
  {
   "cell_type": "markdown",
   "metadata": {},
   "source": [
    "The Rotary Club perfectly matches with these criteria. One the one hand, it was a non-state organization aimed at the socialization and legitimization of business and professional elites. On the other hand, it was a truly transnational organization. Initially founded in Chicago in 1905, the Rotary expanded all over the world after World War I. Before the Communist revolution in 1949, there were no less than thirty-three clubs in China. Despite its elite nature, the Rotary was strongly committed to helping the local society through various philanthropic endeavors. At the same time, because of its foreign origins and its multinational membership, the Rotary Club was deeply concerned with international politics. Despite its self-claimed apolitical posture, it was dedicated to the promotion of international peace and goodwill between nations, especially in the troubled context of the interwar years (<cite data-cite=\"626961/4YPDTCZE\"></cite>, p.233). It is these very tensions between business/politics, elite/society, and localism/internationalism that this paper seeks to investigate."
   ]
  },
  {
   "cell_type": "markdown",
   "metadata": {},
   "source": [
    "The second public sphere institution examined in this research is the Shanghai press. The general press represents an indispensable source for the history of modern China. It recorded the minute details of everyday life and linked the local with the global. As the first mass medium, the periodical press became an important venue through which a variety of historical actors shaped their public images and tried to influence public opinion. After the Opium wars (1839-), Shanghai became the uncontested center of the emerging modern press and the publishing industry in China. The foreign settlements established by the Nanjing Treaty (1842) served as exclaves facilitating the development of a free press beyond the control of the Chinese authorities (<cite data-cite=\"626961/FY6ZQ7SB\"></cite>, p.4). Increasingly dependent on advertising revenues, the so-called “commercial” press, of which the *Shenbao* and *North China Herald/Daily News* can be regarded as the most successful representatives, boomed during the Republic (<cite data-cite=\"626961/T3RS3HRR\"></cite>, forthcoming). These publications presented a broader swathe of opinions than intellectual pamphlets and political periodicals which flourished during the late years of the Qing dynasty, the New Culture movement, and the May Fourth movement. Fortunately, a significant proportion of the Shanghai press has been exceptionally well preserved until today. The leading periodicals published in Shanghai have been extensively digitized and recently made available in plain text, which creates the conditions for conducting quantitative and qualitative analyses that were not possible before. "
   ]
  },
  {
   "cell_type": "markdown",
   "metadata": {},
   "source": [
    "Taking advantage of the massive, multilingual corpora recently made available in full text by the [ENP-China project](https://www.enpchina.eu/) (Elites, Networks and Power in modern China), this paper relies on a computational technique called “topic modeling” to introduce a change of scale in the analysis of the historical press.  These corpora include dozens of periodicals in both Chinese and English, representing thousands of pages and billions of tokens, spanning over a century (1850s-1950s). Topic modeling is a statistical method aimed at detecting hidden themes (topics) in large collections of unstructured texts, based on the co-occurrences of words in documents. We argue that this method is particularly suited for modeling the public sphere in the Shanghai press. While grounded on natural language, topic modeling is also scalable and can be applied to corpora of virtually any size. It can be conceived as a mixed-method approach that harnesses the power of unsupervised techniques to minimize the biases inherent in manual reading and subjective selection, while still relying on close reading and contextual knowledge to interpret the automatically inferred topics. Based on this hybrid approach, we can eventually bridge the gap between close and distant readings, quantitative and qualitative analyses, theoretical and empirical studies. "
   ]
  },
  {
   "cell_type": "markdown",
   "metadata": {},
   "source": [
    "Historians have used topic modeling for a variety of purposes, such as refining corpus building, classifying documents, mapping discourse dynamics and ideational changes (<cite data-cite=\"626961/JPQDI8X3\"></cite>, <cite data-cite=\"626961/FUBAMMM3\"></cite>, <cite data-cite=\"626961/VLTXFZ9R\"></cite>, <cite data-cite=\"626961/IZHGPD6V\"></cite>, <cite data-cite=\"626961/GT2TR8Y6\"></cite>, <cite data-cite=\"626961/SW2G3JLE\"></cite>, <cite data-cite=\"626961/TYNA7Q8G\"></cite>).  While this method has been increasingly used to harness the growing body of digitized newspapers, few studies have explicitly addressed the challenge of article separation. In most cases, the processing of digitized newspapers has been done at the page level, which barely constitutes a semantically coherent unit. Even when the layout analysis was performed at a lower level, specific sections and categories of articles such as “Men and Events” or “Brevities” may contain a range of information that have no relation with each other ([figure 1](#anchor-figure-1)). The topics inferred from these heterogenous articles will only reflect their messy contents, without being immediately relevant to our specific research question. To the best of our knowledge, only (<cite data-cite=\"undefined\"></cite>) and (<cite data-cite=\"626961/GWQTUMXN\"></cite>) have addressed the crucial issue of article separation in historical newspapers, yet without offering scalable solutions. (<cite data-cite=\"626961/IBT42XJB\"></cite>) have also touched upon the issue of determining the size of text sections in more general terms. Until recently, topic modeling has been essentially implemented in monolingual contexts, primarily in English.  Notable exceptions that apply multilingual topic modeling include (<cite data-cite=\"626961/4RLTTJBN\"></cite>), (<cite data-cite=\"626961/MJ4JJVIV\"></cite>), (<cite data-cite=\"626961/QHLTKGQB\"></cite>) and (<cite data-cite=\"626961/ICISENGW\"></cite>). Yet because of the lack of training data, multilingual topic modeling has not been applied to historical newspapers so far. Topic modeling has also been applied to Chinese texts, but the existing case studies have focused on either contemporary or classical Chinese, especially classical literature (<cite data-cite=\"626961/ZHQ5UL8D\"></cite>) and in rare instances, historical records written in classical Chinese (<cite data-cite=\"626961/DNUIWSYJ\"></cite>). Due to the limited availability of digitized texts produced during the modern period, topic modeling has never been applied to modern Chinese newspapers so far."
   ]
  },
  {
   "cell_type": "markdown",
   "metadata": {
    "jdh": {
     "object": {
      "source": [
       "figure 1: Examples of problematic text units from Shenbao (top) and China Weekly Review (bottom). Segments of interest are highlighted. For the sake of saving space, only parts of the articles are reproduced here."
      ],
      "type": "image"
     }
    },
    "tags": [
     "figure-1"
    ]
   },
   "source": [
    "![Example document 1 (Shenbao)](media/Fig.1a.png) \n",
    "![Example document 2 (China Weekly Review)](media/Fig.1b.png)"
   ]
  },
  {
   "cell_type": "markdown",
   "metadata": {},
   "source": [
    "The purpose of this research is twofold. Substantively, we aim to better understand how the public sphere operated in practice through the daily working of a non-state organization (Rotary Club), as it was recorded in the periodical press. Our key questions include: How did the Shanghai press reported on the Rotary Club? How did the organization mediate between elite/society, business/politics, localism/internationalism? What does this reveal about how the press itself functioned as a public sphere? How did the emerging public sphere change over time and vary across languages? Methodologically, we aim to design a robust, reliable method for conducting a bilingual, dynamic topic modeling approach of the historical press. More specifically, we address three major challenges: (1) to identify topics across multiple languages (in this paper, English and Chinese); (2) to trace topical changes over time; and (3) to adapt topic modeling to the heterogeneity of newspaper contents, particularly to brevity-style articles made up of short pieces of unrelated news."
   ]
  },
  {
   "cell_type": "markdown",
   "metadata": {},
   "source": [
    "This paper proceeds in three steps. The first section describes the corpora and the methodology used for preparing the text data and building the topic models. The two next sections exploit the results of topic modeling to map out the four modus operandi of the public sphere and to analyze how its local and global dimensions were articulated in the press across languages. Finally, the last section examines how the public sphere evolved during the troubled decades extending from the end of World War I to the Communist revolution (1919-1949)."
   ]
  },
  {
   "cell_type": "markdown",
   "metadata": {
    "tags": [
     "hermeneutics"
    ]
   },
   "source": [
    "## Data and methodology"
   ]
  },
  {
   "cell_type": "markdown",
   "metadata": {
    "tags": [
     "hermeneutics"
    ]
   },
   "source": [
    "Our workflow follows three main steps. First, we create the text corpora. Second, we prepare the text data and build the topic models. Finally, we analyze and interpret the topics. While this is a standard workflow in any topic modeling approach, this research introduces specific adaptations for building the bilingual corpora and for pre-processing the text data to overcome the problem of article separation described earlier. "
   ]
  },
  {
   "cell_type": "markdown",
   "metadata": {
    "tags": [
     "hermeneutic-step"
    ]
   },
   "source": [
    "### Step 1: Corpus building"
   ]
  },
  {
   "cell_type": "markdown",
   "metadata": {
    "tags": [
     "hermeneutics"
    ]
   },
   "source": [
    "In the first step, we created two separate corpora, one for each language. The Chinese-language corpus is based on the *Shenbao*, a leading newspaper published in Shanghai between 1872 and 1949. Despite low literacy rates among the Chinese population, the *Shenbao* reached 150,000 copies in the 1930s, making it one of the two most widely circulated newspapers in China (On the *Shenbao*, see (<cite data-cite=\"626961/IE4K5VAI\"></cite>), (<cite data-cite=\"626961/IQFS98C6\"></cite>), (<cite data-cite=\"626961/KLCSUKFR\"></cite>). See also Christian Henriot's piece in this issue). Although it catered primarily to Shanghai intellectual, political, and business elites, its readership widened in the 1930s. The English-language corpus is based on the [ProQuest Chinese Newspapers Collection](https://about.proquest.com/en/products-services/hnp_cnc/), which includes a dozen of periodicals running from 1832 to 1953, with varying circulation, periodicity, and duration.  Despite the risk of overlap, we nonetheless chose to include all the periodicals included in the ProQuest collection to ensure the maximum coverage and to reduce the gap with the daily granularity of the Shenbao. Since the largest English periodicals were weekly publications, they were necessarily more selective than the Shenbao, with the risk of missing some events that were reported in the *Shenbao*, but not in one or the other English periodicals. The most widely distributed foreign periodical was the *North China Daily News*, peaking at 10,000 copies in the early 1930s, while its weekly edition, the *North China Herald*, distributed almost 2,000 copies per week. They were read not only by foreign expatriates but also increasingly by foreign-educated Chinese elites. Although they were printed in Shanghai, both the *Shenbao* and the *North China Herald* had a national, even international coverage, being circulated among overseas Chinese and foreign readers interested in Chinese affairs."
   ]
  },
  {
   "cell_type": "markdown",
   "metadata": {
    "tags": [
     "hermeneutics"
    ]
   },
   "source": [
    "Since we are investigating a very specific organization with few possible homonyms and a low degree of ambiguity, we relied on simple keywords to build the corpora, namely “Rotary Club” in English and “扶輪社” (*fulunshe*) in Chinese. We only excluded the quasi-homonym “國學扶輪社” (*guoxue fulunshe*), which referred to a publishing enterprise established in the early 20th century with no connection with the Rotary Club. Additionally, we restricted the query to the period posterior to 1919, when the first Rotary Club in China was established in Shanghai. For the English-language corpus, we used the metadata to filter out irrelevant or content-poor categories of articles, such as “Advertisement”, “Classified Advertisement”, “General Information”, and “Table of Contents, Front Matter”. The full code for building the corpora with the [HistText R library](https://bookdown.enpchina.eu/rpackage/HistTextRManual.html) can be found [here](https://bookdown.enpchina.eu/PublicSphere_stm/PublicSphere_Chinese_anonym.Rmd) (Chinese) and [here](https://bookdown.enpchina.eu/PublicSphere_stm/PublicSphere_English_anonym.Rmd) (English). "
   ]
  },
  {
   "cell_type": "markdown",
   "metadata": {
    "tags": [
     "hermeneutics"
    ]
   },
   "source": [
    "Following this method, we obtained 467 documents spanning from 1922 to 1947 for the Chinese-language corpus (*Shenbao*) and 2387 documents published between 1919 and 1948 for the English-language corpus (ProQuest). The two plots below show the uneven distribution of documents over time in the two corpora ([figure 2](#anchor-figure-2)). For both, we observe a huge gap during the Sino-Japanese war (1937-1945), especially after 1941 when most periodicals ceased publication. The ProQuest corpus shows a clear peak in the 1930s, whereas the distribution was less regular in the *Shenbao*. In addition, the ProQuest corpus was clearly dominated by three large periodicals, namely the *China Press* (Chinese-owned) (1380, 58 %), the *North China Herald* (British) (658, 28 %), and to a lesser extent, the *China Weekly Review* (American) (315, 13 %). Obviously, the two corpora are not balanced. Not only is English-language corpus larger than the Chinese one, but it contains several periodicals. This is not an issue, however, since the topics are inferred separately for each corpus based on their respective vocabulary. A major advantage of LDA-based probabilistic models, as we explained below, is to rely on the relative frequencies of words in each topic and on the relative proportions of topics in each corpus, which enables to compare corpora of their different sizes and structures."
   ]
  },
  {
   "cell_type": "markdown",
   "metadata": {
    "jdh": {
     "object": {
      "source": [
       "figure 2: Distribution of documents mentioning the Rotary Club in Shenbao (top) and the ProQuest collection of Chinese newspapers (bottom)."
      ],
      "type": "image"
     }
    },
    "tags": [
     "figure-2"
    ]
   },
   "source": [
    "![Distribution of documents in Shenbao](media/Fig.2a.png) \n",
    "![Distribution of documents in ProQuest](media/Fig.2b.png)"
   ]
  },
  {
   "cell_type": "markdown",
   "metadata": {
    "tags": [
     "hermeneutic-step"
    ]
   },
   "source": [
    "### Step 2: Text pre-processing"
   ]
  },
  {
   "cell_type": "markdown",
   "metadata": {
    "tags": [
     "hermeneutics"
    ]
   },
   "source": [
    "To address the challenge of article separation, we propose to use text segments, instead of entire documents, as the basic unit for inferring topics. As shown on the figure below, we designed a simple, three-step method based on Key Word in Context (KWIC) ([figure 3](#anchor-figure-3)). In the first step, we retrieved the key terms in their context using a concordance table (a). In the second step, we merged the queried terms (\"Matched\") with the terms immediately preceding (\"Before\") and immediately following (\"After\") to reconstruct the sequence of words as a single string (b).  Finally, in cases when the queried terms occurred multiple times in the same article, we reunited the article by merging its various instances in the same string (c). The full code for retrieving concordance can be found [here](https://bookdown.enpchina.eu/PublicSphere_stm/PublicSphere_Chinese.html#Retrieve_concordance) (Chinese) and [here](https://bookdown.enpchina.eu/PublicSphere_stm/PublicSphere_English.html#Retrieve_concordance) (English). The main challenge with this method is to define the right context size for the concordance. After a close reading of a sample of articles representing different possible cases, we opted for the lowest possible context size in each language in order to minimize the risk of overlap, setting the upper limit to 400 characters for Chinese and 100 for English. In cases when the window size is too narrow, however, some information may be lost, whereas when it is too large, overlap and repetitions may occur. Although this solution is not ideal, we still believe it is our best option at this stage. To finely adjust the context size to each possible case would require a significant amount of manual work, which is well beyond the scope of this research. This is an issue we need to address in future research."
   ]
  },
  {
   "cell_type": "markdown",
   "metadata": {
    "jdh": {
     "object": {
      "source": [
       "figure 3: A simple three-step method for creating short text units centered on the queried terms using concordance or Key Word In Context (KWIC): (1) Retrieve KWIC (2) Reconstruct the sequence (3) Re-unite the document. The above example is taken from an article published in Shenbao on 14 April 1947, which contains three instances of the key terms."
      ],
      "type": "image"
     }
    },
    "tags": [
     "figure-3"
    ]
   },
   "source": [
    "![figure 3](media/Fig.3.png)"
   ]
  },
  {
   "cell_type": "markdown",
   "metadata": {
    "tags": [
     "hermeneutics"
    ]
   },
   "source": [
    "Next, we prepared the text data to make it processable by topic model algorithms. Standard pre-processing steps include tokenization, stemming and lemmatization (optional), and various filtering options (stop words, punctuation, rare words). Tokenization is the operation of segmenting the text into meaningful units, which in this context, are essentially words. For the Chinese text more specifically, we used [jiebaR](https://github.com/qinwf/jiebaR/), which is one of the most popular tokenizers today. Although it was primarily designed for tokenizing contemporary Chinese texts, it gave satisfactory results on the texts published during the period under study (1919-1949). For the English text, we relied on the standard tokenizer included in the pre-processing function of the [stm R package](https://warin.ca/shiny/stm/#section-the-structural-topic-model) (which we describe below). In the next steps, we chose not to stem (to reduce words to their root) and not to lemmatize word (to reduce words to their common form), because at this stage we preferred to maintain all the nuances conveyed in the original articles. Additionally, we provided a customized list of stop words, including the terms used for querying the corpus (“扶輪社”, “Rotary”, “club”) and too common terms in this context, such as “中國”, “上海”, “China”, and “Chinese”. We also removed the words that contained less than two characters and occurred in less than two documents in Chinese, and those containing less than four characters and occurring in less than five documents in English. Given these parameters, five documents were removed from the Chinese corpus. The resulting corpora eventually contain 2378 terms in English and 921 in Chinese, representing their respective vocabulary."
   ]
  },
  {
   "cell_type": "markdown",
   "metadata": {
    "tags": [
     "hermeneutics-step"
    ]
   },
   "source": [
    "### Step 3: Model building"
   ]
  },
  {
   "cell_type": "markdown",
   "metadata": {
    "tags": [
     "hermeneutics"
    ]
   },
   "source": [
    "Various topic modeling algorithms have been implemented so far. For this research, we opted for a Latent Dirichlet Allocation (LDA) algorithm, which is one of the most popular methods today. LDA is a probabilistic model that treats topics as mixtures of words and documents as mixtures of topics. This implies that words can belong to different topics, while topics can be represented in multiple documents with varying proportions. More specifically, we rely on structural topic modeling (STM) to incorporate metadata such as the date of publication in order to investigate the effect of time on topical prevalence. From a technical perspective, we chose to use the [stm R package](https://warin.ca/shiny/stm/#section-the-structural-topic-model) which includes several built-in functions designed to facilitate the exploration of topics, including various visualizations and statistical outputs (<cite data-cite=\"626961/WA2GBZDB\"></cite>). The full code for building the topic models can be found [here](https://bookdown.enpchina.eu/PublicSphere_stm/PublicSphere_Chinese_anonym.Rmd) (Chinese) and [here](https://bookdown.enpchina.eu/PublicSphere_stm/PublicSphere_English_anonym.Rmd) (English).  "
   ]
  },
  {
   "cell_type": "markdown",
   "metadata": {
    "tags": [
     "hermeneutics"
    ]
   },
   "source": [
    "Choosing the right number of topics *k* remains a highly debated question. There is no definite answer. Most topic modeling tools, including the *stm* package, generally provide a set of metrics such as held-out likelihood, residual analysis, average exclusivity and semantic coherence, to help the researcher to determine the optimal number of topics for a given corpus. According to the creators of the *stm* package, the optimal number of topics for corpora that comprise between a few hundred to a few thousand documents, should range from 5 to 50 topics (<cite data-cite=\"626961/CTH9XCRS\"></cite>).  Ultimately, however, only the researcher’s interpretational needs can determine the most appropriate number of topics for a given specific research. After several experiments, we decided to build three models with 5, 10, and 20 topics for each corpus. This would enable us to navigate between three different levels of granularity. Building several models with gradual numbers of topics also helps to overcome the issue of having corpora of different sizes and structures. Topics can then be aligned across models and similar topics do not necessarily need to be represented in the same models, with the exact same number of topics. "
   ]
  },
  {
   "cell_type": "markdown",
   "metadata": {
    "tags": [
     "hermeneutics"
    ]
   },
   "source": [
    "The results of topic modeling are usually presented in the forms of lists of words and probabilities. Each topic is defined by a series of words which most frequently co-occur together. Topics are also associated with their global proportion in the entire corpus and their relative proportion per document. The series of plots below shows the most frequent words for each topic and the relative proportion of the topics for each model ([figure 4](#anchor-figure-4), [figure 5](#anchor-figure-5))."
   ]
  },
  {
   "cell_type": "markdown",
   "metadata": {
    "jdh": {
     "object": {
      "source": [
       "figure 4: Summary of topics for each model in the Chinese corpus. Each plot shows the most frequent words for each topic and the relative proportion of the topics for each model."
      ],
      "type": "image"
     }
    },
    "tags": [
     "figure-4"
    ]
   },
   "source": [
    "![figure 4a](media/Fig.4a.png) \n",
    "![figure 4b](media/Fig.4b.png) \n",
    "![figure 4c](media/Fig.4c.png)"
   ]
  },
  {
   "cell_type": "markdown",
   "metadata": {
    "jdh": {
     "object": {
      "source": [
       "figure 5: Summary of topics for each model in the English corpus. Each plot shows the most frequent words for each topic and the relative proportion of the topics for each model."
      ],
      "type": "image"
     }
    },
    "tags": [
     "figure-5"
    ]
   },
   "source": [
    "![figure 5a](media/Fig.5a.png) \n",
    "![figure 5b](media/Fig.5b.png) \n",
    "![figure 5c](media/Fig.5c.png) "
   ]
  },
  {
   "cell_type": "markdown",
   "metadata": {
    "tags": [
     "hermeneutics"
    ]
   },
   "source": [
    "Based on the list of words, we labeled the topics in the most meaningful way as possible ([figure 6](#anchor-figure-6), [figure 7](#anchor-figure-7)). More than often, especially in cases when the topics seemed unclear, we do not just rely on the list of words. We also closely examined a sample of highly representative texts for each topic to better understand how the topics translated into concrete words and sentences. Additionally, we relied on our previous knowledge of the club and of the broader historical context to enhance our final interpretation of the topics."
   ]
  },
  {
   "cell_type": "markdown",
   "metadata": {
    "jdh": {
     "object": {
      "source": [
       "figure 6: Topic labels for each model in the Chinese corpus."
      ],
      "type": "image"
     }
    },
    "tags": [
     "figure-6"
    ]
   },
   "source": [
    "![figure 6a](media/Fig.6a.png) \n",
    "![figure 6b](media/Fig.6b.png) \n",
    "![figure 6c](media/Fig.6c.png)"
   ]
  },
  {
   "cell_type": "markdown",
   "metadata": {
    "jdh": {
     "object": {
      "source": [
       "figure 7: Topic labels for each model in the English corpus."
      ],
      "type": "image"
     }
    },
    "tags": [
     "figure-7"
    ]
   },
   "source": [
    "![figure 7a](media/Fig.7a.png) \n",
    "![figure 7b](media/Fig.7b.png) \n",
    "![figure 7c](media/Fig.7c.png)"
   ]
  },
  {
   "cell_type": "markdown",
   "metadata": {
    "tags": [
     "hermeneutics"
    ]
   },
   "source": [
    "Tables 1 to 6 in the ([Appendix](#anchor-appendix)) provide a summary of the topics for each model, including their label, the 10 most frequent words defining each topic, and their various attributes (topical group, dimension, proportion, and trend over time). Tables 7 and 8 show the topics aligned across models. Tables 9, 10, and 11 present the topics aligned across languages. "
   ]
  },
  {
   "cell_type": "markdown",
   "metadata": {},
   "source": [
    "## The *modus operandi* of the public sphere"
   ]
  },
  {
   "cell_type": "markdown",
   "metadata": {
    "tags": [
     "narrative",
     "hermeneutics"
    ]
   },
   "source": [
    "In the next step, we grouped the labeled topics into four broad categories ([figure 8](#anchor-figure-8)). These four meta-topics reflect the four main domains of activity of the Rotary Club, and by extension, to the four *modus operandi* of the Shanghai public sphere."
   ]
  },
  {
   "cell_type": "markdown",
   "metadata": {
    "jdh": {
     "object": {
      "source": [
       "figure 8: Distribution of topical categories. PQ = ProQuest, SB = Shenbao. 5T = 5-topic model, 10T = 10-topic model, 20T = 20-topic model."
      ],
      "type": "image"
     }
    },
    "tags": [
     "figure-8"
    ]
   },
   "source": [
    "![figure 8](media/Fig.8.png)"
   ]
  },
  {
   "cell_type": "markdown",
   "metadata": {
    "tags": [
     "narrative",
     "hermeneutics"
    ]
   },
   "source": [
    "**Meeting, socializing, entertaining (blue)**. This category refers to the weekly meetings (tiffins) held every Thursday by the Shanghai Rotary Club (lunch, tiffin), as well as special events (dinner dance, concert, garden party) and sports games, such as the Rotary Tennis Cup organized every year in the early 1930s. In the *Shenbao* corpus, this group includes topics 4 and 5 in the 5-topic model, topics 1, 10, 8, 5, and 4 in the 10-topic model, and topics 4, 8, 16, 3, 5, and 1 in the 20-topic model. In the ProQuest corpus, this group includes topics 5 and 1 in the 5-topic model, topics 7, 5, and 8 in the 10-topic model, and topics 8, 17, 5, 11, and 9 in the 20-topic model. "
   ]
  },
  {
   "cell_type": "markdown",
   "metadata": {
    "tags": [
     "narrative",
     "hermeneutics"
    ]
   },
   "source": [
    "**Sponsorship and community service (grey)** refers to various philanthropic projects aimed at both elite (students, boy scouts) and non-elite populations (poor Russian emigres, poor children, the blind, war refugees). In the *Shenbao*, this group includes topic 1 in the 5-topic model, topics 9 and 6 in the 10-topic model, topics 17, 9, 10, 12, and 6 in the 20-topic model. In the English-language press, this group includes topics 4 and 2 in the 5-topic model, topics 2 and 6 in the 10-topic model, and topics 10, 15, 7, and 6 in the 20-topic model."
   ]
  },
  {
   "cell_type": "markdown",
   "metadata": {
    "tags": [
     "narrative",
     "hermeneutics"
    ]
   },
   "source": [
    "**Organization (yellow)** includes topics dealing with elections of local and district officers, Rotary International delegates, national and international conferences, relations with Rotary International, exchanges between Rotary clubs in China and other countries. In the *Shenbao*, this group is specifically represented by topic 2 (Rotary International) in the 5-topic model, by topic 7 (district elections) in the 10-topic model and becomes more prominent in the 20-topic model (topics 18, 2, 15, 20, 13, and 7). In ProQuest, organizational issues emerge as a topic in the 10-topic model (topic 10 on non-Shanghai clubs) and gain importance in the 20-topic model (topics 1, 12, 13, and 20)."
   ]
  },
  {
   "cell_type": "markdown",
   "metadata": {
    "tags": [
     "narrative",
     "hermeneutics"
    ]
   },
   "source": [
    "**Forum (orange)** refers to lectures given during tiffin-meetings and speeches delivered by official guests during special events. The discussions covered a variety of topics, including economic development, social welfare, health, technology, Chinese arts and cultural exchanges. In the *Shenbao*, this topical group emerges only in the 10-topic model (topics 2 and 3) and remains under-represented in the 20-topic model (topics 14 and 19). It is more prevalent in the English-language press, represented by topic 3 in the 5-topic model, topics 10, 4 (social work), and 9 (Sino-Japanese relations) in the 10-topic model, and by topics 4 (social work), 3 (American and East Asia), and several opinion articles (topics 14, 10, 19) in the 20-topic model."
   ]
  },
  {
   "cell_type": "markdown",
   "metadata": {
    "tags": [
     "narrative",
     "hermeneutics"
    ]
   },
   "source": [
    "**Other (pale blue)**. The remaining topics are classified as ambiguous or irrelevant. They often present a low semantic coherence, which reflects the polysemous nature of the words they include. Topic 11 in the 20-topic model of the *Shenbao* provides an example of a non-topic made up of three distinct issues: (1) Sino-American relations (speech of the Chinese general consul before the New York Rotary Club regarding Sino-American friendship, Rotary International scholarship for students in the United States), (2) a series of advertisements for a toy collection campaign, and (3) various meetings. The connection between (2) and (3) is made through the “Metropole Hotel” (都城飯店) which is used both as a place of meeting and a place for collecting toys, whereas the connection between (1) and (3) is made through the word “speech” (演說). In the English corpus, topics 14, 10, and 19 in the 20-topic model contain unrelated articles that share very general words, such as “life”, “business”, “said”, and “address”. In an improved version of the model, these generic words should be removed to increase the relevance of topics. As these examples suggest, invalid topics tend to become more frequent as we increase the number of topics in the model. This can be measured by plotting topic coherence against exclusivity, as shown on the plot ([figure 9](#anchor-figure-9)). The higher the number of topics, the lower the coherence, and the higher the exclusivity."
   ]
  },
  {
   "cell_type": "markdown",
   "metadata": {
    "jdh": {
     "object": {
      "source": [
       "figure 9: Plotting semantic coherence against exclusivity for the three models built from Shenbao (top) and ProQuest (bottom). The higher the number of topics, the lower the coherence, and the higher the exclusivity."
      ],
      "type": "image"
     }
    },
    "tags": [
     "figure-9"
    ]
   },
   "source": [
    "![figure 9a](media/Fig.9a.png) \n",
    "![figure 9b](media/Fig.9b.png)"
   ]
  },
  {
   "cell_type": "markdown",
   "metadata": {
    "tags": [
     "narrative",
     "hermeneutics"
    ]
   },
   "source": [
    "In the next step, we compare the relative proportions of each topic category in the two corpora ([figure 8](#anchor-figure-8)). Although the same topics do not appear necessarily at the same level of granularity and/or in the same proportions, we observe a global convergence across languages."
   ]
  },
  {
   "cell_type": "markdown",
   "metadata": {
    "tags": [
     "narrative",
     "hermeneutics"
    ]
   },
   "source": [
    "Meeting-related topics prevail in both corpora (40 to 60%), meaning that socializing and entertaining were the primary functions of the club. Local meetings were particularly prominent in the *Shenbao*, which essentially reflects the daily periodicity of the newspaper. The *Shenbao* contains a fairly large number of repeated announcements of upcoming meetings, whereas the English-language weekly press featured less frequent but more substantial reports of past meetings."
   ]
  },
  {
   "cell_type": "markdown",
   "metadata": {
    "tags": [
     "narrative",
     "hermeneutics"
    ]
   },
   "source": [
    "Community service was the second most important activity of the club (10 to 30%). The two corpora shared a similar concern for children, reflected in the toy collection campaigns that the Rotary organized every year for Christmas (SB20T06), and the fundraising campaigns aimed at building a children hospital in Zhabei (north of the International Settlement) (SB20T12). In fact, children-oriented philanthropy represented the most prevalent and resilient topic in this category. The 20-topic models also shared a growing concern for helping poor Russian emigres in Shanghai (SB20T10, PQ20T15). Boy scouts featured more prominently in the English-language press (PQ5T04, PQ10T06, PQ20T06), whereas the *Shenbao* was more concerned with the construction of a “beggar camp” for refugees during the Sino-Japanese war (SB10T09, SB20T17). These divergences reflect both the national profiles of the individuals who were involved in the various charity projects, as well as the uneven impact of the Sino-Japanese war (1937-1945) on the Chinese and the English press. On the one hand, the boy scout movement in Shanghai was essentially supported by the British Rotarian Francis Charles Millington. On the other hand, the English-language press was more seriously affected by the war than the *Shenbao*."
   ]
  },
  {
   "cell_type": "markdown",
   "metadata": {
    "tags": [
     "narrative",
     "hermeneutics"
    ]
   },
   "source": [
    "The greater prevalence of organizational topics in the *Shenbao* (25% compared to 5% in the ProQuest corpus) reflects the general growth of Chinese members and the increasing autonomy of Chinese clubs in the global organization (<cite data-cite=\"626961/4YPDTCZE\"></cite>).  While the English press focused on local elections prior to the Sino-Japanese war (PQ10T01, PQ20T20), the Chinese press seemed more concerned with district elections and postwar reorganization (SB10T07, SB20T07). Both corpora reported on other Rotary clubs in China (PQ10T03), including Tianjin (PQ20T18, SB20T15), Nanjing (PQ20T13), after the Nationalists had established their capital in the city in 1927, and Hangzhou, where the first Chinese-speaking club was established in 1931 (SB20T18) (<cite data-cite=\"626961/4YPDTCZE\"></cite>, p.254).  While international conventions were systematically documented in the two corpora (SB5T02 , SB10T02, SB20T02, PQ20T01), the *Shenbao* was more likely to report on other Rotary clubs outside China (SB20T13, SB20T20). "
   ]
  },
  {
   "cell_type": "markdown",
   "metadata": {
    "tags": [
     "narrative",
     "hermeneutics"
    ]
   },
   "source": [
    "Finally, the presence of forum-related topics (5 to 20%) in the two corpora illustrates a core characteristic of the public sphere as an alternative to armed conflicts. It is remarkable that in both languages, every topic is deprived of any words denoting conflict or violence. Instead, the words that dominate the six topic models all emphasize dialogue and discussion as the primary means of communication among Rotarians. These words also express the self-image that the Rotary aimed to present to the world. For instance, if we focus on the 10-topic model, topic 2 is defined by the words *yanshuo* 演說 (speech), *daibiao* 代表 (delegate or representative), *qinshan* 親善 (goodwill), and *jingshen* 精神 (spirit) in Chinese. These words serve to define other topics as well, and in fact they occur frequently across the entire corpus. In the English-language press, the words “said”, “address”, “speech”, and “talk” are highly frequent in topic 10 as well as in other topics. These topics epitomize the self-claimed apolitical nature of the Rotary club and its commitment to international peace and goodwill. Potentially conflictual issues were always discussed on a rational basis during meetings and special events, which offered a platform for guest speakers, including government officials, to defend their opinions and political programs in their keynote speeches. The Rotarians’ mode of communication and ways of managing conflicts contrasted sharply with the war of resistance advocated by other Chinese organizations during the same period.  This emphasis on dialogue and non-violence applied not just to the Rotary Club but also to the press as an informational medium at large. As (<cite data-cite=\"626961/FY6ZQ7SB\"></cite>) stated: “The very institution of the newspaper came in this package of successful modernization as a core ingredient promising information flow in society as well as rational and effective handling of conflict.” (<cite data-cite=\"626961/FY6ZQ7SB\"></cite>, p.5).  We would certainly obtain very different results if we applied topic modeling to more “political” publications and perhaps to other sections in the same periodicals, especially the sections devoted to national and international news during these troubled times. "
   ]
  },
  {
   "cell_type": "markdown",
   "metadata": {
    "tags": [
     "narrative",
     "hermeneutics"
    ]
   },
   "source": [
    "The “forum” category nonetheless presents significant differences between the two corpora in terms of topic prevalence and topical contents. Forum-related topics were more prevalent in English periodicals than they were in the *Shenbao*. This again essentially reflects the weekly periodicity of English-language press, which allowed for lengthy and more detailed accounts of lectures and discussions, whereas the Chinese daily was more likely to publish brief accounts and announcements of lectures. The English press tended to focus on social/economic issues (PQ10T04 and PQ20T04) and international relations, especially the American presence in East Asia (PQ20T03). The two corpora shared a growing concern for Sino-Japanese relations after the Japanese invasion of Manchuria in September 1931. This critical topic, however, was not as prominent as expected and made only brief appearances in both corpora (PQ10T09, SB20T19). "
   ]
  },
  {
   "cell_type": "markdown",
   "metadata": {},
   "source": [
    "## Negotiating between the local and the global"
   ]
  },
  {
   "cell_type": "markdown",
   "metadata": {
    "tags": [
     "narrative",
     "hermeneutics"
    ]
   },
   "source": [
    "To investigate the transnational nature of the public sphere, we further classified the topics into local/non-local categories. In this research, the “local” reflects the Shanghai point of view. Since we are relying on periodicals published in Shanghai and catering primarily to a Shanghai-based audience, the “local” refers to the point of view of Shanghai newspaper readers. In the two languages, the local can be grasped empirically through terms referring to local places (street name, building or hotel in which the Rotary Club held its meetings), local time (day, date, exact time of meeting), local institutions (local companies or local branch of outside companies, municipal administration, civic associations, or local business organizations), and local positions (president, manager, director, board member). The local, however, is not defined by people (Rotary members or guests). We consider that human actors were intrinsically mobile, both geographically and professionally, and their mindset and influence extended far beyond their daily routine and local sphere of action. "
   ]
  },
  {
   "cell_type": "markdown",
   "metadata": {},
   "source": [
    "How did the transnational dimension of the Rotary Club perspire through its four operating spheres? First, as a transnational organization, the Rotary Club had local branches with a large degree of autonomy from its center in Chicago, which is reflected in several topics dealing with local elections, district elections and national conventions (SB10T07, PQ10T01, SB20T07, PQ20T01, PQ20T12, PQ20T20). Second, topics related to community service reveal the implications of global conflicts on local philanthropy, as in the case of war refugees (SB10T09, SB20T17). Topics related to lectures and speeches (forum) often dealt with global issues, such as international relations, political economy, and cultural exchanges across national boundaries (SB10T02, PQ10T09, PQ10T10, SB20T19, PQ20T03). Finally, topics related to meetings and socializing arenas reveal that Chinese Rotary clubs received many visitors from abroad, including Rotary International delegates and representatives of other clubs in Asia and Western countries (SB20T01, PQ20T05). From the perspective of the local press, Shanghai emerged as the new regional and global center in East Asia. Circulations went both ways. Not only did foreign visitors come to China, but Chinese Rotarians as well frequently visited other clubs in foreign countries. "
   ]
  },
  {
   "cell_type": "markdown",
   "metadata": {
    "tags": [
     "narrative",
     "hermeneutics"
    ]
   },
   "source": [
    "The distinction between local and non-local topics, however, is not always straightforward. In LDA-based models, topics are mixtures of words which can be both localized and globalized. This can be best illustrated by focusing on the words that define each topic. The following examples are taken from the 10-topic model, which offers the best compromise. The 5-topic models contain topics that are too broad and difficult to interpret, whereas the 20-topic models include overlapping topics, non-topics, and topics that are exclusive to single documents.  Eventually, the 10-topic model is more balanced and lends itself to more meaningful interpretation ([figure 10](#anchor-figure-10))."
   ]
  },
  {
   "cell_type": "markdown",
   "metadata": {
    "jdh": {
     "object": {
      "source": [
       "figure 10: The most frequent words defining the 10-topic models in Shenbao (top) and ProQuest (bottom)."
      ],
      "type": "image"
     }
    },
    "tags": [
     "figure-10"
    ]
   },
   "source": [
    "![figure 10a](media/Fig.10a.png) \n",
    "![figure 10b](media/Fig.10b.png)"
   ]
  },
  {
   "cell_type": "markdown",
   "metadata": {},
   "source": [
    "Topics 1 and 3 in the Chinese corpus provide examples of mixed topics including both local and non-local terms ([figure 11](#anchor-figure-11)). Topic 1 includes words that refer to the United States (美国) (American guests) as well as tiffin meetings (聚餐會) in local hotels (都成飯店 Metropole Hotel) at local time (昨日 yesterday, 星期四 Thursday, 十二時 noon). Topic 3 is defined by terms that refer to other countries (各国) as well as local time (昨日  yesterday), local place (本埠 this port), local institutions (該社 this club) and local positions (社員 club member, 主席 chairman). Topics 6, 8, 9, and 10 are more clearly local (兒童, 苦兒, 醫院: local children hospital, 影片: local movie projection, 下午 : this afternoon, 二時 : two o’clock, 四川, 馬路 : street names), whereas topics 2, 4, 5, 7 refer to more distant settings and events (國際 international, 萬國 universal, 世界 world, 代表 delegate, 親善 goodwill, 日本 Japan, 天津 Tianjin, 本月 this month, 區域 district)."
   ]
  },
  {
   "cell_type": "markdown",
   "metadata": {
    "jdh": {
     "object": {
      "source": [
       "figure 11: The most representative documents for topics 1 and 3 in the Chinese-language corpus (10-topic model)."
      ],
      "type": "image"
     }
    },
    "tags": [
     "figure-11"
    ]
   },
   "source": [
    "![figure 11](media/Fig.11.png)"
   ]
  },
  {
   "cell_type": "markdown",
   "metadata": {},
   "source": [
    "In the English corpus, mixed topics include topics 1, 5, and 10 ([figure 12](#anchor-figure-12)). Topics 1 deals with the elections of local club officers (board, elected, president, secretary, Shanghai) with an international stature, such as Kuang Fuzhuo, an American-educated Chinese who served as president of the Shanghai Club as well as delegate of Rotary International, district governor and leader of the Young Men’s Christian Association (Y.M.C.A.). Topic 5 deals with American residents and visitors in Shanghai, exemplifying the transnational flows of people coming and going every day through the treaty port. Topic 10 refers to speeches that addressed global issues during a local meeting in Shanghai. More clearly global topics includes topics 3 & 9 (about Japan), whereas topics 2, 4, 6, 7, and 8 are more clearly locally grounded."
   ]
  },
  {
   "cell_type": "markdown",
   "metadata": {
    "jdh": {
     "object": {
      "source": [
       "figure 12: The most representative documents for topics 1, 5, and 10 in the English-language corpus (10-topic model)."
      ],
      "type": "image"
     }
    },
    "tags": [
     "figure-12"
    ]
   },
   "source": [
    "![figure 12](media/Fig.12.png)"
   ]
  },
  {
   "cell_type": "markdown",
   "metadata": {
    "tags": [
     "hermeneutics",
     "narrative"
    ]
   },
   "source": [
    "The fact that topics are often mixtures of local/non-local words complicates the categorizations designed in the beginning of this section. Furthermore, when taken out of their context, some words appear ambiguous. Deciding on their local/non-local dimensions usually requires additional, contextual knowledge. For example, the words “都城” (*ducheng*) in topic 1 and “Metropole” in topic 7 did not refer to some global metropolis but to the name of a local hotel in Shanghai (都城 飯店 *ducheng fandian*), which the Rotary Club used for its weekly meetings in the 1930s. Alternative text analysis tools such as bigrams and collocations can be used in combination with topic modeling to help disambiguate such words. Ultimately, disambiguation requires a close reading of sample texts, usually the top first documents with the highest topic prevalence, to better understand how topics translate into concrete words and sentences, and to eventually validate the actual content of topics (<cite data-cite=\"626961/ADRQ6K6S\"></cite>)."
   ]
  },
  {
   "cell_type": "markdown",
   "metadata": {},
   "source": [
    "## The public sphere over time"
   ]
  },
  {
   "cell_type": "markdown",
   "metadata": {},
   "source": [
    "How did the public sphere evolve over time? Did the war reshape the four domains of the public sphere? Did the Shanghai press and the Rotary Club become more globally minded in times of international crisis? For this temporal analysis, we continue to rely on the 10-topic model. In the two corpora, local meetings tended to decline over time, whereas discussions and local philanthropy driven by international conflicts tended to increase during the same period. In the *Shenbao*, three topics in particular experienced a significant decline. These topics refer to special events and social gatherings aimed at entertaining members (topic 4) and guest speakers (topic 3). Topic 5 also includes sports games, especially the Rotary Tennis Cup which was exclusive to the 1930s decade. In the ProQuest corpus, weekly meetings, and special events (topics 6, 7, 8) also declined during the war and the postwar period. Either meetings ceased during the war, or they were no longer systematically reported in the press. On the opposite, topics 2 and 7 experienced a notable increase in the Chinese corpus. Topic 2 reveals that transnational flows of people did not stop during the war. What we learn from this topic is that Rotary clubs in China continued to host visitors from abroad, including Rotary International delegates and fellow Rotarians from other countries. Topic 7 relates to the postwar reorganization and the elections of regional delegates at the district level. In the ProQuest corpus, rising topics essentially relate to children welfare during the war (topic 2), Japan (topic 9), and various lectures about global issues ([figure 13](#anchor-figure-13))."
   ]
  },
  {
   "cell_type": "markdown",
   "metadata": {
    "jdh": {
     "object": {
      "source": [
       "figure 13: Topic proportions over time (1919-1949) for the 10-topic model in Shenbao (top) and ProQuest (bottom). Topic proportions are aggregated by year."
      ],
      "type": "image"
     }
    },
    "tags": [
     "figure-13"
    ]
   },
   "source": [
    "![figure 13a](media/Fig.13a.png) \n",
    "![figure 13b](media/Fig.13b.png)"
   ]
  },
  {
   "cell_type": "markdown",
   "metadata": {},
   "source": [
    "The remaining topics seem less stable. Topics 1, 6, 8, 9, and 10 in the Chinese corpus are examples of such unstable topics. Most refer to tiffin meetings (announcements or reports), which constitute a regular feature of the Rotary Club and can be defined as a “background topic” for the Rotary Club. Topics dealing with children peaked during the war and vanished afterwards. Topics dealing with the beggar camp and the refugee problem also peaked during the war. Their early appearances are misleading, however, resulting from polysemous terms used to define different topics (such as *xiwang* 希望 “hope”)."
   ]
  },
  {
   "cell_type": "markdown",
   "metadata": {},
   "source": [
    "In the English corpus, temporally unstable topics include topics 1, 3, 4 (social work), and 5. They consist in fact of less consistent topics addressing different issues defined through similar terms. Topic 1 relates to various elections and organizational issues. Topic 3 deals with Rotary clubs outside of Shanghai, appearing mostly in the mid- and late 1930s. Topic 4 addresses a range of issues related to social work and workers, labor strikes in the 1920s, the development of Greater Shanghai and the new Chinese municipality in the 1930s, as well as epidemics and public health administration during the war. Finally, topic 5 focuses on the American community, Sino-American relations, and the coming and going of American visitors in China. This topic emerges as another background topic for several reasons. With the growing influence of the United States in the Pacific region after WWI, an increasing number of American businessmen and officials came to work in China in the 1920s-1940s. After the Sino-Japanese war, the United States reinforced their influence in the region in the context of the Chinese civil war and the Cold War on the global stage. Finally, this topic reflects the permanence of “People and Events” sections in English-language periodicals, a particular genre of brief news articles focusing on people’s life events. Eventually, from the 1930s onwards, it becomes increasingly difficult to disentangle local and global topics, because of China’s increasing participation in the globalized world, especially during the Sino-Japanese war (1937-1945)."
   ]
  },
  {
   "cell_type": "markdown",
   "metadata": {},
   "source": [
    "## Conclusion"
   ]
  },
  {
   "cell_type": "markdown",
   "metadata": {},
   "source": [
    "This paper has contributed to a better understanding of how the Shanghai public sphere functioned in practice in a bilingual environment, and how it evolved during the two last decades of the Republic (1919-1949). In this research, we have relied on topic modeling to map the social and discursive practices of the Rotary Club as a key transnational public sphere institution operating through four main spheres of actions: socializing and entertaining (meeting), self-regulation (organization), community service (philanthropy), lectures and discussions (forum). While this is not an entirely new finding, we are now able to precisely classify and quantify the relative importance of each domain, to model how they differ across languages, and to trace how they changed over time. By extension, we have modeled how the Shanghai press itself operated as a public sphere, not only through the events it reported, but also through its particular way of reporting. More specifically, the topics inferred from the two corpora reveal the predominant use of non-violent words over conflictual and emotional language, supporting previous research that has emphasized the role of the modern press as an arena for the rational handling of conflicts. "
   ]
  },
  {
   "cell_type": "markdown",
   "metadata": {},
   "source": [
    "Our topic modeling approach further supports previous findings regarding the transnationality of the Shanghai public sphere. As shown in this paper, each of the four spheres identified has a transnational dimension. Foreign guests were regularly invited and entertained at local meetings. Several locally elected officers such as Kuang Fuzhuo had a truly international stature. Local clubs echoed the philosophy of Rotary international and were incorporated into broader organizational units at the district and regional levels. International politics and global issues were vividly discussed during local meetings, while local philanthropy and community service were shaped by transnational movements (boy scouts) and increasingly driven by international conflicts (war, refugees). By extension, the topics also reflect the transnational nature of the Shanghai press itself, featuring multiple points of view and different scales of observations. While the constant intermingling of the local and the global is not an entirely new finding, it has been for the first time empirically grounded in natural language, embodied in the mixture of words defining each of the topics identified in this research."
   ]
  },
  {
   "cell_type": "markdown",
   "metadata": {},
   "source": [
    "Cross-lingual comparisons have demonstrated large spheres of intersection between Chinese and English-language periodicals. This general convergence points to the intense circulation of information and journalistic practices within the press industry. The main observed differences result from variations in the periodicity and in the particular history of each publication. The daily *Shenbao* featured short announcements of meetings, whereas the English weeklies published less frequent but more detailed reports of meetings. More subtle divergences reflect different concerns and perspectives. While both corpora reported on Rotary clubs outside Shanghai, the *Shenbao* placed a stronger emphasis on hemispheric circulations and cooperation within the non-Western world. Further investigation is needed to identify more subtle differences in the ways the same topics were presented in different languages, or different views on the same events."
   ]
  },
  {
   "cell_type": "markdown",
   "metadata": {
    "tags": [
     "hermeneutics",
     "narrative"
    ]
   },
   "source": [
    "Methodologically, the contribution of this paper is threefold. First, it has offered a simple yet efficient solution, based on concordance, to the problem of article segmentation in digitized newspapers. This preliminary method needs to be refined and adjusted to different types of texts depending on their varying length and relevance to the research question. Second, this paper constitutes a rare instance of cross-lingual comparison involving the Chinese language during its transitional stage between classical and modern Chinese. As a low-resource language, pre-modern Chinese presents significant challenges for the application of natural language processing tools and computer-assisted text analysis. As (<cite data-cite=\"626961/AIA2V386\"></cite>) has demonstrated, the Chinese language was highly unstable during the century under study, which was a pivotal phase in the creation of a standard vernacular (*baihua*) national language (*guoyu*). In his data-driven study of the Shenbao, (<cite data-cite=\"626961/HLNNBCY7\"></cite>) has shown that the Chinese language actually evolved through six main stages between 1872 and 1949. Further research should pay greater attention to the decisions made during the pre-processing phase and design strict protocols for evaluating the impact of tokenization and language variation on the resulting topics. From a multilingual perspective, future research could also benefit from more sophisticated techniques for the automatic alignment of topics across languages (<cite data-cite=\"626961/MJ4JJVIV\"></cite>).  It could also investigate the differences between the various English periodicals included in the ProQuest collection, especially between the British *North China Herald*, the American *China Weekly Review*, and the Chinese-owned *China Press*. Third, this research has demonstrated the value of combining different models with different *k* number of topics, instead of focusing on a single, definitive model. This multi-model approach is particularly appropriate when dealing with corpora of different sizes and with different structures. This multi-scalar reading of corpora enables scholars to navigate between different levels of granularity and to select in each model the topics that are the most relevant to the research question."
   ]
  },
  {
   "cell_type": "markdown",
   "metadata": {
    "tags": [
     "hermeneutics",
     "narrative"
    ]
   },
   "source": [
    "In this paper, we have maintained a critical attitude towards topic modeling. We have pointed out the limitations of topic modeling as a method for mapping complex texts such as historical newspapers. As a statistical model based on word co-occurrences and relying on a rather static definition of words, it may produce incoherent topics and sometimes struggle for handling polysemous words in changing contexts. Topic modeling nonetheless remains an irreplaceable tool for structuring vast collections of texts in multiple languages and to model their changing contents over long periods of time, which is well beyond human reading capability. Eventually, we have adopted a dual approach to topic modeling, oscillating between “topic realism” – equating topics with actual themes - and “topic instrumentalism” – treating topics as proxies to gain a better understanding of digitized artifacts and to evaluate their potential biases on historical interpretations (<cite data-cite=\"626961/TMXZ36NA\"></cite>).  We concur with previous literature who considers that topic modeling is best used as an exploratory tool and in combination with other methods. As shown in this paper, topic modeling is never fully automated. To properly label, interpret, and validate the topics, we have relied on the close reading of representative articles, informed by our previous archival research on the Rotary Club. This external knowledge has also helped us to highlight some important topics that went missing or were underrepresented in the press, such as Sino-Japanese tensions and language barriers to the inclusion of Chinese members in the organization. "
   ]
  },
  {
   "cell_type": "markdown",
   "metadata": {
    "tags": [
     "hermeneutics",
     "narrative"
    ]
   },
   "source": [
    "The results of this topic modeling exercise can be used as a starting point for addressing more specific research questions. The inferred topics point to the existence of two main categories of articles that can be further investigated using adequate methods. On the one hand, topics related to meetings, organization, and philanthropy are generally rich with names of individuals, organizations, and locations. Named entity recognition (NER) and network analysis can then be utilized to automatically extract the names of these actors and further analyze their connections. On the other hand, topics related to lectures and discussions (forums), which are richer in semantic contents, lend themselves to a deeper examination of the discourses articulated by the various actors, using methods such as semantic and sentiment analyses. Finally, while the Rotary Club has served as a test case in this paper, our methodology can be expanded to investigate other public sphere institutions and more abstract concepts related to the public sphere. Furthermore, with some adjustments, it can be readily transposed to similar digitized texts in English, Chinese, and possibly other languages, beyond the specific corpora utilized in this research."
   ]
  },
  {
   "cell_type": "markdown",
   "metadata": {},
   "source": [
    "## Appendix"
   ]
  },
  {
   "cell_type": "markdown",
   "metadata": {
    "tags": [
     "hermeneutics"
    ]
   },
   "source": [
    "In the following tables, *SB* stands for *Shenbao*, PQ = ProQuest. 5T = 5-topic model, 10T = 10-topic model, 20T = 20-topic model. The number immediately following indicates the number of the topic in each topic model. "
   ]
  },
  {
   "cell_type": "markdown",
   "metadata": {
    "tags": [
     "hermeneutics"
    ]
   },
   "source": [
    "Tables 1 to 6 provide a summary of the topics for each model, including their label, the 10 most frequent words defining each topic, and their various attributes (topical group, dimension, proportion, and trend over time). Tables 7 and 8 display the topics aligned across models. Tables 9, 10, and 11 display the topics aligned across languages. "
   ]
  },
  {
   "cell_type": "markdown",
   "metadata": {},
   "source": [
    "### Summary of topic models"
   ]
  },
  {
   "cell_type": "markdown",
   "metadata": {
    "jdh": {
     "object": {
      "source": [
       "table 1: Summary of topics for the 5-topic model in Chinese corpus."
      ],
      "type": "table"
     }
    },
    "tags": [
     "table-1",
     "hermeneutics"
    ]
   },
   "source": [
    "\n",
    "| TopicCode  | **TopicLabel**         | **TopWords**                                                     | **Proportion** | **Proportion%** | **Local** | **Functions** | **Trend**           |\n",
    "|------------|------------------------|------------------------------------------------------------------|----------------|-----------------|-----------|---------------|---------------------|\n",
    "| **SB5T01** | Children               | 玩具, 兒童, 醫院, 修理, 苦兒, 耶誕, 發起, 貧苦, 放映, 大戲院     |          0.129 | 13%             | Local     | SPONSOR       | Increase (dramatic) |\n",
    "| **SB5T02** | International 國際     | 國際, 社員, 代表, 大會, 會員, 天津, 此次, 世界, 該社, 中外       |          0.226 | 23%             | Non-local | ORGANIZATION  | Stable              |\n",
    "| **SB5T03** | All Nations 萬國       | 美國, 定於, 本週, 公司, 組織, 今日, 扶輪, 社長, 昨日, 萬國       |          0.201 | 20%             | Non-local | MEETING       | Increase (moderate) |\n",
    "| **SB5T04** | Early meetings (1920s) | 舉行, 飯店, 演講, 下午, 十二時, 聚餐, 星期四, 聚餐會, 都城, 中午 |          0.239 | 24%             | Local     | MEETING       | Increase (moderate) |\n",
    "| **SB5T05** | Wartime meetings       | 常會, 下午, 總會, 聯華, 乞丐, 大學, 十五日, 二時, 馬路, 四川     |          0.205 | 21%             | Local     | MEETING       | Decline (dramatic)  |\n"
   ]
  },
  {
   "cell_type": "markdown",
   "metadata": {
    "jdh": {
     "object": {
      "source": [
       "table 2: Summary of topics for the 5-topic model in the English corpus."
      ],
      "type": "table"
     }
    },
    "tags": [
     "table-2",
     "hermeneutics"
    ]
   },
   "source": [
    "| TopicCode  | **TopicLabel**                   | **TopWords**                                                                               | **Proportion** | **Proportion%** | **Local** | **Functions** | **Trend**           |\n",
    "|------------|----------------------------------|--------------------------------------------------------------------------------------------|----------------|-----------------|-----------|---------------|---------------------|\n",
    "| **PQ5T01** | Past tiffins (reports)           | shanghai, president, tiffin, members, meeting, held, yesterday, hotel,   weekly, rotarians |          0.209 | 21%             | Local     | MEETING       | Stable              |\n",
    "| **PQ5T02** | Children                         | shanghai, children, hospital, toys, made, school, christmas, work,   committee, russian    |          0.154 | 15%             | Local     | SPONSOR       | Increase (dramatic) |\n",
    "| **PQ5T03** | Lectures                         | nanking, address, foreign, said, subject, shanghai, delivered, speech,   told, government  |          0.213 | 21%             | Non-local | FORUM         | Increase (moderate) |\n",
    "| **PQ5T04** | Boy scouts                       | shanghai, first, said, international, world, shield, present, work,   local, great         |          0.168 | 17%             | Local     | SPONSOR       | Decrease (moderate) |\n",
    "| **PQ5T05** | Upcoming tiffins (announcements) | shanghai, meeting, american, held, hotel, thursday, members, weekly,   next, today         |          0.256 | 26%             | Local     | MEETING       | Decrease (dramatic) |"
   ]
  },
  {
   "cell_type": "markdown",
   "metadata": {
    "jdh": {
     "object": {
      "source": [
       "table 3: Summary of topics for the 10-topic model in the Chinese corpus."
      ],
      "type": "table"
     }
    },
    "tags": [
     "table-3",
     "hermeneutics"
    ]
   },
   "source": [
    "| TopicCode   | **TopicLabel**        | **TopWords**                                                     | **Proportion** | **Proportion%** | **Functions** | **Local** | **Trend**           |\n",
    "|-------------|-----------------------|------------------------------------------------------------------|----------------|-----------------|---------------|-----------|---------------------|\n",
    "| **SB10T01** | Tiffins (Metropole)   | 舉行, 飯店, 演講, 美國, 聚餐會, 聚餐, 星期四, 十二時, 昨日, 都城 |          0.157 |           15.7% | MEETING       | Local     | Stable              |\n",
    "| **SB10T02** | International 國際    | 國際, 世界, 大會, 演說, 代表, 會員, 組織, 親善, 精神, 日本       |          0.077 |            7.7% | FORUM         | Non-local | Increase (moderate) |\n",
    "| **SB10T03** | Speeches              | 社員, 主席, 該社, 組織, 該會, 昨日, 各國, 本埠, 此次, 報告       |          0.081 |            8.1% | FORUM         | Mixed     | Decrease (dramatic) |\n",
    "| **SB10T04** | Special events        | 舉行, 天津, 公司, 大會, 盛大, 招待, 本月, 對於, 此次, 出席       |          0.094 |            9.4% | MEETING       | Local     | Decrease (dramatic) |\n",
    "| **SB10T05** | Tennis Cup            | 扶輪, 國際, 萬國, 比賽, 社長, 代表, 錦標, 中華, 市長, 參加       |          0.115 |           11.5% | MEETING       | Local     | Decrease (moderate) |\n",
    "| **SB10T06** | Children              | 玩具, 兒童, 修理, 苦兒, 醫院, 耶誕, 貧苦, 放映, 徵求, 影片       |          0.067 |            6.7% | SPONSOR       | Local     | Increase (dramatic) |\n",
    "| **SB10T07** | District elections    | 討論, 下午, 舉行, 區域, 博士, 年會, 昨日, 團體, 國際, 增加       |          0.051 |            5.1% | ORGANIZATION  | Non-local | Increase (dramatic) |\n",
    "| **SB10T08** | Early meetings (1923) | 下午, 總會, 常會, 聯華, 大學, 二時, 馬路, 青年會, 協會, 四川     |          0.131 |           13.1% | MEETING       | Local     | Decrease (dramatic) |\n",
    "| **SB10T09** | Beggar camp           | 乞丐, 救世軍, 本報, 工部局, 會議, 本市, 收容所, 希望, 慈善, 問題 |          0.091 |            9.1% | SPONSOR       | Local     | Increase (dramatic) |\n",
    "| **SB10T10** | Wartime meetings      | 常會, 本週, 定於, 童子軍, 公司, 八日, 十八日, 十日, 十五日, 五月 |          0.138 |           "
   ]
  },
  {
   "cell_type": "markdown",
   "metadata": {
    "jdh": {
     "object": {
      "source": [
       "table 4: Summary of topics for the 10-topic model in the English corpus."
      ],
      "type": "table"
     }
    },
    "tags": [
     "table-4",
     "hermeneutics"
    ]
   },
   "source": [
    "| TopicCode   | **TopicLabel**          | **TopWords**                                                                                       | **Proportion** | **Proportion%** | **Functions** | **Local** | **Trend**           |\n",
    "|-------------|-------------------------|----------------------------------------------------------------------------------------------------|----------------|-----------------|---------------|-----------|---------------------|\n",
    "| **PQ10T01** | Elections               | shanghai, president, member, fong, international, secretary,   board, elected, past, harris        |          0.101 |           10.1% | Mixed         | ORGAN     | Decrease (moderate) |\n",
    "| **PQ10T02** | Children                | children, hospital, toys, shanghai, christmas, made, funds,   charity, year, building              |          0.087 |            8.7% | Local         | SPONSOR   | Increase (dramatic) |\n",
    "| **PQ10T03** | Non-Shanghai Clubs      | nanking, wang, international, foreign, hangchow, district,   affairs, president, special, minister |          0.067 |            6.7% | Non-Local     | ORGAN     | Increase (dramatic) |\n",
    "| **PQ10T04** | Social work and workers | work, shanghai, public, committee, community, interest,   relief, church, municipal, service       |          0.099 |            9.9% | Local         | FORUM     | Increase (moderate) |\n",
    "| **PQ10T05** | American community      | american, shanghai, states, united, university, america,   addressed, foreign, company, hongkong   |          0.107 |           10.7% | Mixed         | MEET      | Decrease (dramatic) |\n",
    "| **PQ10T06** | Boy scouts              | school, shanghai, miss, russian, shield, scouts, ball, troop,   presented, boys                    |          0.078 |            7.8% | Local         | SPONSOR   | Decrease (moderate) |\n",
    "| **PQ10T07** | Weekly meetings         | meeting, hotel, held, shanghai, weekly, thursday, tiffin,   metropole, speaker, yesterday          |          0.162 |           16.2% | Local         | MEET      | Increase (moderate) |\n",
    "| **PQ10T08** | Special events          | members, tiffin, guests, shanghai, house, astor, rotarians,   party, held, dinner                  |            0.1 |             10% | Local         | MEET      | Decrease (dramatic) |\n",
    "| **PQ10T09** | Sino-Japanese relations | address, japan, japanese, government, peking, delivered, last,   members, present, international   |          0.093 |            9.3% | Non-Local     | FORUM     | Stable              |\n",
    "| **PQ10T10** | Lectures                | said, shanghai, world, years, address, speech, gave, talk,   members, editor                       |          0.105 |           10.5% | Non-Local     | FORUM     | Stable              |\n"
   ]
  },
  {
   "cell_type": "markdown",
   "metadata": {
    "jdh": {
     "object": {
      "source": [
       "table 5: Summary of topics for the 20-topic model in the Chinese corpus."
      ],
      "type": "table"
     }
    },
    "tags": [
     "table-5",
     "hermeneutics"
    ]
   },
   "source": [
    "| TopicCode   | **TopicLabel**             | **TopWords**                                                         | **Proportion** | **Proportion%** | **Local** | **Functions** | **Trend**           |\n",
    "|-------------|----------------------------|----------------------------------------------------------------------|----------------|-----------------|-----------|---------------|---------------------|\n",
    "| **SB20T01** | 01 - Special events        | 昨日, 本埠, 舉行, 飯店, 報告, 該社, 代表, 中西, 主席, 來賓           |          0.045 |            4.5% | Mixed     | MEETING       | Decline (dramatic)  |\n",
    "| **SB20T02** | 02 - International 國際    | 代表, 國際, 出席, 會議, 宗旨, 大會, 親善, 精神, 歡迎, 太平洋         |          0.044 |            4.4% | Non-local | ORGANIZATION  | Stable              |\n",
    "| **SB20T03** | 03 - Meetings (brief)      | 演講, 下午, 都城, 飯店, 時間, 聚餐, 事項, 先生, 中午, 十二時         |          0.049 |            4.9% | Local     | MEETING       | Increase (dramatic) |\n",
    "| **SB20T04** | 04 - Meetings (program)    | 常會, 本週, 定於, 舉行, 中午, 假座, 五月, 屆時, 星期四, 飯店         |           0.13 |             13% | Local     | MEETING       | Increase (dramatic) |\n",
    "| **SB20T05** | 05 - Tennis Cup            | 扶輪, 比賽, 萬國, 錦標, 網球, 中華, 社長, 夫人, 體育, 網球賽         |          0.046 |            4.6% | Local     | MEETING       | Decline (moderate)  |\n",
    "| **SB20T06** | 06 - Children (Entertain)  | 玩具, 苦兒, 耶誕, 放映, 影片, 主辦, 電影, 運動, 照例, 公映           |          0.026 |            2.6% | Local     | SPONSOR       | Increase (dramatic) |\n",
    "| **SB20T07** | 07 - District elections    | 討論, 區域, 擴大, 一年, 進行, 下午, 博士, 一百, 增加, 成立           |          0.025 |            2.5% | Non-local | ORGANIZATION  | Increase (dramatic) |\n",
    "| **SB20T08** | 08 - Early meetings (1923) | 總會, 常會, 下午, 聯華, 八日, 廿八日, 四川, 二時, 廿七日, 十五日     |          0.084 |            8.4% | Local     | MEETING       | Decline (dramatic)  |\n",
    "| **SB20T09** | 09 - Boy Scouts            | 中外, 童子軍, 今日, 日本, 席間, 董事, 主席, 紀念, 昨在, 職員         |          0.052 |            5.2% | Local     | SPONSOR       | Increase (moderate) |\n",
    "| **SB20T10** | 10 - Poor Russians         | 舉行, 本月, 盛大, 市長, 會員, 大華, 事務, 國際, 飯店, 本埠           |           0.05 |              5% | Local     | SPONSOR       | Decline (moderate)  |\n",
    "| **SB20T11** | 11 - Not valid             | 美國, 都城, 飯店, 我國, 掉換, 光明, 各處, 國泰, 擁擠, 靜安寺         |          0.031 |            3.1% | Mixed     | OTHER         | Increase (dramatic) |\n",
    "| **SB20T12** | 12 - Children (Hospital)   | 玩具, 兒童, 貧苦, 醫院, 修理, 破舊, 大戲院, 徵求, 各界, 一件         |          0.043 |            4.3% | Local     | SPONSOR       | Increase (dramatic) |\n",
    "| **SB20T13** | 13 - Rotary abroad (國際)  | 大會, 國際, 該會, 法國, 成立, 會員, 公司, 主席, 精神, 舉行           |          0.027 |            2.7% | Non-local | ORGANIZATION  | Stable (unique)     |\n",
    "| **SB20T14** | 14 - Speeches              | 舉行, 本報, 主席, 美國, 委員會, 社友, 年會, 會員, 馬來, 視察         |          0.041 |            4.1% | Mixed     | FORUM         | Increase (dramatic) |\n",
    "| **SB20T15** | 15 - Tianjin Rotary        | 天津, 國際, 香港, 八十一, 學生, 十五日, 此次, 福州, 歡迎, 對於       |          0.044 |            4.4% | Non-local | ORGANIZATION  | Decline (moderate)  |\n",
    "| **SB20T16** | 16 - Tiffins (Carlton)     | 聚餐會, 舉行, 飯店, 十二時, 聚餐, 美國, 演講, 星期四, 三十分, 今午   |          0.083 |            8.3% | Local     | MEETING       | Decline (dramatic)  |\n",
    "| **SB20T17** | 17 - Beggar Camp           | 乞丐, 救世軍, 工部局, 問題, 委員會, 收容所, 俱樂部, 本市, 租界, 救濟 |           0.06 |              6% | Local     | SPONSOR       | Increase (dramatic) |\n",
    "| **SB20T18** | 18 - Hangzhou Rotary       | 下午, 大學, 四時, 八時, 杭州, 十三日, 協會, 華人, 租界, 二時         |           0.05 |              5% | Non-local | ORGANIZATION  | Decline (dramatic)  |\n",
    "| **SB20T19** | 19 - Peace resolution      | 社員, 演說, 及其, 各國, 組織, 此次, 發表, 該社, 國際, 團體           |          0.038 |            3.8% | Mixed     | FORUM         | Stable (unique)     |\n",
    "| **SB20T20** | 20 - Rotary abroad (世界)  | 世界, 組織, 目的, 各國, 演說, 從事, 英國, 努力, 社員, 親善           |          0.029 |            2.9% | Non-local | ORGANIZATION  | Stable (unique)     |\n"
   ]
  },
  {
   "cell_type": "markdown",
   "metadata": {
    "jdh": {
     "object": {
      "source": [
       "table 6: Summary of topics for the 20-topic model in the English corpus."
      ],
      "type": "table"
     }
    },
    "tags": [
     "table-6",
     "hermeneutics"
    ]
   },
   "source": [
    "| TopicCode   | **TopicLabel**                    | **TopWords**                                                                                      | **Proportion** | **Proportion%** | **Local** | **Functions** | **Trend**            |\n",
    "|-------------|-----------------------------------|---------------------------------------------------------------------------------------------------|----------------|-----------------|-----------|---------------|----------------------|\n",
    "| **PQ20T01** | 01 - Organization                 | shanghai, president, international, past, fong, member, local,   harris, fitch, george            | 0,04           | 4%              | Non-local | ORGANIZATION  | Stable               |\n",
    "| **PQ20T02** | 02 - Children                     | hospital, toys, children, shanghai, christmas, charity, made,   year, funds, ward                 | 0,055          | 6%              | Local     | SPONSOR       | Increase (dramatic)  |\n",
    "| **PQ20T03** | 03 - US & East Asia               | foreign, trade, arnold, week, addresses, julean, various,   commercial, members, commissioner     | 0,035          | 4%              | Non-local | FORUM         | Increase (dramatic)  |\n",
    "| **PQ20T04** | 04 - Social work and workers      | work, committee, relief, public, shanghai, community,   international, done, interest, service    | 0,051          | 5%              | Local     | FORUM         | Increase (moderate)  |\n",
    "| **PQ20T05** | 05 - American community           | american, shanghai, states, united, company, member,   addressed, thursday, university, commerce  | 0,063          | 6%              | Mixed     | MEETING       | Decrease (dramatic)  |\n",
    "| **PQ20T06** | 06 - Boy scouts                   | school, shield, scouts, troop, russian, shanghai, president,   jamboree, camp, scout              | 0,031          | 3%              | Local     | SPONSOR       | Decrease (dramatic)  |\n",
    "| **PQ20T07** | 07 - Blind school                 | shanghai, road, chang, institution, issue, work, building,   charge, official, appeal             | 0,038          | 4%              | Local     | SPONSOR       | Decrease (dramatic)  |\n",
    "| **PQ20T08** | 08 - Weekly tiffins (Metropole)   | hotel, shanghai, meeting, held, weekly, metropole, thursday,   members, yesterday, speaker        | 0,095          | 10%             | Local     | MEETING       | Increase (dramatic)  |\n",
    "| **PQ20T09** | 09 - Meetings announcements       | meeting, today, program, speak, regular, held, next, closed,   tomorrow, shang                    | 0,048          | 5%              | Local     | MEETING       | Increase (moderate)  |\n",
    "| **PQ20T10** | 10 - Speeches (not valid)         | said, hongkong, recently, well, talk, pacific, institute,   great, read, speech                   | 0,05           | 5%              | Non-local | OTHER         | Increase (moderate)  |\n",
    "| **PQ20T11** | 11 - Special events               | members, shanghai, dinner, evening, given, party, clock,   ladies, night, afternoon               | 0,054          | 5%              | Local     | MEETING       | Decrease (dramatic)  |\n",
    "| **PQ20T12** | 12 - District conference          | wang, conference, district, hangchow, governor, members,   international, president, tsinan, held | 0,038          | 4%              | Non-local | ORGANIZATION  | Increase (dramatic)  |\n",
    "| **PQ20T13** | 13 - Nanking Rotary Club          | nanking, government, national, bureau, affairs, soochow,   special, central, capital, minister    | 0,047          | 5%              | Non-local | ORGANIZATION  | Increase (dramatic)  |\n",
    "| **PQ20T14** | 14 - Opinions (not valid)         | address, shanghai, delivered, present, last, speech, editor,   years, subject, history            | 0,076          | 8%              | Non-local | OTHER         | Increase (dramatic)  |\n",
    "| **PQ20T15** | 15 - Poor Russians                | miss, shanghai, french, school, russian, children, girls,   society, race, donation               | 0,044          | 4%              | Local     | SPONSOR       | Increase (dramatic)  |\n",
    "| **PQ20T16** | 16 - Games/Competitions           | shanghai, meet, international, first, radio, local, team,   tennis, american, presented           | 0,038          | 4%              | Local     | MEETING       | Decrease (moderate)  |\n",
    "| **PQ20T17** | 17 - Weekly tiffins (Astor House) | tiffin, meeting, guests, held, address, members, gave, weekly,   yesterday, interesting           | 0,067          | 7%              | Local     | MEETING       | Decrease (dramatic)  |\n",
    "| **PQ20T18** | 18 - Tientsin Rotary Club         | tientsin, left, peking, church, meeting, house, astor, union,   service, shanghai                 | 0,04           | 4%              | Non-local | OTHER         | Stable               |\n",
    "| **PQ20T19** | 19 - Addresses (not valid)        | japanese, life, rotarians, rotarian, business, members, years,   first, great, said               | 0,044          | 4%              | Non-local | OTHER         | Increase (moderate)  |\n",
    "| **PQ20T20** | 20 - Local elections              | president, general, elected, secretary, board, shanghai, year,   meeting, directors, chairman     | 0,046          | 5%              | Local     | ORGANIZATION  | Decrease (moderate)  |\n"
   ]
  },
  {
   "cell_type": "markdown",
   "metadata": {},
   "source": [
    "### Cross-model alignment"
   ]
  },
  {
   "cell_type": "markdown",
   "metadata": {
    "tags": [
     "hermeneutics"
    ]
   },
   "source": [
    "Tables 7 and 8 display the topics aligned across models. "
   ]
  },
  {
   "cell_type": "markdown",
   "metadata": {
    "jdh": {
     "object": {
      "source": [
       "table 7: Topics aligned across models in the Chinese corpus."
      ],
      "type": "table"
     }
    },
    "tags": [
     "table-7",
     "hermeneutics"
    ]
   },
   "source": [
    "| 5TopicCode | **5TopicLabel**        | 10TopicCode | **10TopicLabel**      | 20TopicCode | **20TopicLabel**           |\n",
    "|------------|------------------------|-------------|-----------------------|-------------|----------------------------|\n",
    "| **SB5T01** | Children               | **SB10T06** | Children              | **SB20T06** | 06 - Children (Entertain)  |\n",
    "| **SB5T01** | Children               | **SB10T06** | Children              | **SB20T12** | 12 - Children (Hospital)   |\n",
    "| **SB5T02** | International 國際     | **SB10T02** | International 國際    | **SB20T02** | 02 - International 國際    |\n",
    "| **SB5T03** | All Nations 萬國       | **SB10T05** | Tennis Cup            | **SB20T05** | 05 - Tennis Cup            |\n",
    "| **SB5T04** | Early meetings (1920s) | **SB10T08** | Early meetings (1923) | **SB20T08** | 08 - Early meetings (1923) |\n",
    "| **SB5T05** | Wartime meetings       | **SB10T10** | Wartime meetings      | **SB20T03** | 03 - Meetings (brief)      |\n",
    "|            |                        | **SB10T01** | Tiffins (Metropole)   | **SB20T04** | 04 - Meetings (program)    |\n",
    "|            |                        | **SB10T02** | International 國際    | **SB20T13** | 13 - Rotary abroad (國際)  |\n",
    "|            |                        | **SB10T02** | International 國際    | **SB20T20** | 20 - Rotary abroad (世界)  |\n",
    "|            |                        | **SB10T03** | Speeches              | **SB20T07** | 07 - District elections    |\n",
    "|            |                        | **SB10T03** | Speeches              | **SB20T14** | 14 - Speeches              |\n",
    "|            |                        | **SB10T04** | Special events        | **SB20T01** | 01 - Special events        |\n",
    "|            |                        | **SB10T09** | Beggar camp           | **SB20T17** | 17 - Beggar Camp           |\n",
    "|            |                        |             |                       | **SB20T09** | 09 - Boy Scouts            |\n",
    "|            |                        |             |                       | **SB20T10** | 10 - Poor Russians         |\n",
    "|            |                        |             |                       | **SB20T11** | 11 - Not valid             |\n",
    "|            |                        |             |                       | **SB20T15** | 15 - Tianjin Rotary        |\n",
    "|            |                        |             |                       | **SB20T16** | 16 - Tiffins (Carlton)     |\n",
    "|            |                        |             |                       | **SB20T18** | 18 - Hangzhou Rotary       |\n",
    "|            |                        |             |                       | **SB20T19** | 19 - Peace resolution      |\n"
   ]
  },
  {
   "cell_type": "markdown",
   "metadata": {
    "jdh": {
     "object": {
      "source": [
       "table 8: Topics aligned across models in the English corpus."
      ],
      "type": "table"
     }
    },
    "tags": [
     "table-8",
     "hermeneutics"
    ]
   },
   "source": [
    "| 5TopicCode | **5TopicLabel**                  | 10TopicCode | **10TopicLabel**        | 20TopicCode | **20TopicLabel**                  |\n",
    "|------------|----------------------------------|-------------|-------------------------|-------------|-----------------------------------|\n",
    "| **PQ5T01** | Past tiffins (reports)           | **PQ10T07** | Weekly meetings         | **PQ20T08** | 08 - Weekly tiffins (Metropole)   |\n",
    "| **PQ5T01** | Past tiffins (reports)           | **PQ10T07** | Weekly meetings         | **PQ20T17** | 17 - Weekly tiffins (Astor House) |\n",
    "| **PQ5T02** | Children                         | **PQ10T02** | Children                | **PQ20T02** | 02 - Children                     |\n",
    "| **PQ5T03** | Lectures                         | **PQ10T09** | Sino-Japanese relations | **PQ20T19** | 19 - Addresses (not valid)        |\n",
    "| **PQ5T03** | Lectures                         | **PQ10T10** | Lectures                | **PQ20T10** | 10 - Speeches (not valid)         |\n",
    "| **PQ5T04** | Boy scouts                       | **PQ10T06** | Boy scouts              | **PQ20T06** | 06 - Boy scouts                   |\n",
    "| **PQ5T05** | Upcoming tiffins (announcements) | **PQ10T07** | Weekly meetings         | **PQ20T09** | 09 - Meetings announcements       |\n",
    "|            |                                  | **PQ10T01** | Elections               | **PQ20T01** | 01 - Organization                 |\n",
    "|            |                                  | **PQ10T01** | Elections               | **PQ20T12** | 12 - District conference          |\n",
    "|            |                                  | **PQ10T01** | Elections               | **PQ20T20** | 20 - Local elections              |\n",
    "|            |                                  | **PQ10T03** | Non-Shanghai Clubs      | **PQ20T13** | 13 - Nanking Rotary Club          |\n",
    "|            |                                  | **PQ10T03** | Non-Shanghai Clubs      | **PQ20T18** | 18 - Tientsin Rotary Club         |\n",
    "|            |                                  | **PQ10T04** | Social work and workers | **PQ20T04** | 04 - Social work and workers      |\n",
    "|            |                                  | **PQ10T05** | American community      | **PQ20T05** | 05 - American community           |\n",
    "|            |                                  | **PQ10T08** | Special events          | **PQ20T11** | 11 - Special events               |\n",
    "|            |                                  |             |                         | **PQ20T03** | 03 - US & East Asia               |\n",
    "|            |                                  |             |                         | **PQ20T07** | 07 - Blind school                 |\n",
    "|            |                                  |             |                         | **PQ20T14** | 14 - Opinions (not valid)         |\n",
    "|            |                                  |             |                         | **PQ20T15** | 15 - Poor Russians                |\n",
    "|            |                                  |             |                         | **PQ20T16** | 16 - Games/Competitions           |"
   ]
  },
  {
   "cell_type": "markdown",
   "metadata": {},
   "source": [
    "### Cross-language alignment"
   ]
  },
  {
   "cell_type": "markdown",
   "metadata": {
    "jdh": {
     "object": {
      "source": [
       "table 9: Topics aligned across languages for the 5-topic model."
      ],
      "type": "table"
     }
    },
    "tags": [
     "table-9",
     "hermeneutics"
    ]
   },
   "source": [
    "| CHINESE   PRESS (SHENBAO) |                        | ENGLISH PRESS   (PROQUEST) |                                  |\n",
    "|:-------------------------:|:----------------------:|:--------------------------:|:--------------------------------:|\n",
    "| SB5T01                    | Children               | PQ5T02                     | Children                         |\n",
    "| SB5T02                    | International 國際     |                            |                                  |\n",
    "| SB5T03                    | All Nations 萬國       |                            |                                  |\n",
    "| SB5T04                    | Early meetings (1920s) | PQ5T01                     | Past tiffins (reports)           |\n",
    "| SB5T04                    | Early meetings (1920s) | PQ5T05                     | Upcoming tiffins (announcements) |\n",
    "| SB5T05                    | Wartime meetings       | PQ5T01                     | Past tiffins (reports)           |\n",
    "| SB5T05                    | Wartime meetings       | PQ5T05                     | Upcoming tiffins (announcements) |\n",
    "|                           |                        | PQ5T03                     | Lectures                         |\n",
    "|                           |                        | PQ5T04                     | Boy scouts                       |"
   ]
  },
  {
   "cell_type": "markdown",
   "metadata": {
    "jdh": {
     "object": {
      "source": [
       "table 10: Topics aligned across languages for the 10-topic model."
      ],
      "type": "table"
     }
    },
    "tags": [
     "table-10",
     "hermeneutics"
    ]
   },
   "source": [
    "| CHINESE   PRESS (SHENBAO) |                       | ENGLISH PRESS   (PROQUEST) |                         |\n",
    "|:-------------------------:|:---------------------:|:--------------------------:|:-----------------------:|\n",
    "| SB10T06                   | Children              | PQ10T02                    | Children                |\n",
    "| SB10T07                   | District elections    | PQ10T01                    | Elections               |\n",
    "| SB10T04                   | Special events        | PQ10T08                    | Special events          |\n",
    "| SB10T010                  | Tennis Cup            | PQ10T08                    | Special events          |\n",
    "| SB10T08                   | Early meetings (1923) | PQ10T07                    | Weekly meetings         |\n",
    "| SB10T01                   | Tiffins (Metropole)   | PQ10T07                    | Weekly meetings         |\n",
    "| SB10T10                   | Wartime meetings      | PQ10T07                    | Weekly meetings         |\n",
    "| SB10T03                   | Speeches              | PQ5T10                     | Lectures                |\n",
    "| SB10T03                   | Speeches              | PQ10T09                    | Sino-Japanese relations |\n",
    "| SB10T02                   | International 國際    | PQ10T09                    | Sino-Japanese relations |\n",
    "| SB10T09                   | Beggar camp           | PQ10T04                    | Social work and workers |\n",
    "| SB10T02                   | International 國際    | PQ10T05                    | American community      |\n",
    "|                           |                       | PQ10T03                    | Non-Shanghai Clubs      |\n",
    "|                           |                       | PQ10T06                    | Boy scouts              |"
   ]
  },
  {
   "cell_type": "markdown",
   "metadata": {
    "jdh": {
     "object": {
      "source": [
       "table 11: Topics aligned across languages for the 20-topic model."
      ],
      "type": "table"
     }
    },
    "tags": [
     "table-11",
     "hermeneutics"
    ]
   },
   "source": [
    "| CHINESE   PRESS (SHENBAO) |                            | ENGLISH PRESS   (PROQUEST) |                                   |\n",
    "|:-------------------------:|:--------------------------:|:--------------------------:|:---------------------------------:|\n",
    "| SB20T01                   | 01 - Special events        | PQ20T11                    | 11 - Special events               |\n",
    "| SB20T02                   | 02 - International 國際    | PQ20T01                    | 01 - Organization                 |\n",
    "| SB20T03                   | 03 - Meetings (brief)      | PQ20T09                    | 09 - Meetings announcements       |\n",
    "| SB20T04                   | 04 - Meetings (program)    | PQ20T08                    | 08 - Weekly tiffins (Metropole)   |\n",
    "| SB20T05                   | 05 - Tennis Cup            | PQ20T16                    | 16 - Games/Competitions           |\n",
    "| SB20T06                   | 06 - Children (Entertain)  | PQ20T02                    | 02 - Children                     |\n",
    "| SB20T07                   | 07 - District elections    | PQ20T12                    | 12 - District conference          |\n",
    "| SB20T07                   | 07 - District elections    | PQ20T20                    | 20 - Local elections              |\n",
    "| SB20T08                   | 08 - Early meetings (1923) | PQ20T09                    | 09 - Meetings announcements       |\n",
    "| SB20T09                   | 09 - Boy Scouts            | PQ20T06                    | 06 - Boy scouts                   |\n",
    "| SB20T10                   | 10 - Poor Russians         | PQ20T15                    | 15 - Poor Russians                |\n",
    "| SB20T11                   | 11 - Not valid             | PQ20T10                    | 10 - Speeches (not valid)         |\n",
    "| SB20T11                   | 11 - Not valid             | PQ20T14                    | 14 - Opinions (not valid)         |\n",
    "| SB20T11                   | 11 - Not valid             | PQ20T19                    | 19 - Addresses (not valid)        |\n",
    "| SB20T12                   | 12 - Children (Hospital)   | PQ20T02                    | 02 - Children                     |\n",
    "| SB20T13                   | 13 - Rotary abroad (國際)  |                            |                                   |\n",
    "| SB20T14                   | 14 - Speeches              |                            |                                   |\n",
    "| SB20T15                   | 15 - Tianjin Rotary        | PQ20T18                    | 18 - Tientsin Rotary Club         |\n",
    "| SB20T16                   | 16 - Tiffins (Carlton)     | PQ20T17                    | 17 - Weekly tiffins (Astor House) |\n",
    "| SB20T17                   | 17 - Beggar Camp           |                            |                                   |\n",
    "| SB20T18                   | 18 - Hangzhou Rotary       | PQ20T13                    | 13 - Nanking Rotary Club          |\n",
    "| SB20T19                   | 19 - Peace resolution      |                            |                                   |\n",
    "| SB20T20                   | 20 - Rotary abroad (世界)  |                            |                                   |\n",
    "|                           |                            | PQ20T03                    | 03 - US & East Asia               |\n",
    "|                           |                            | PQ20T04                    | 04 - Social work and workers      |\n",
    "|                           |                            | PQ20T05                    | 05 - American community           |\n",
    "|                           |                            | PQ20T07                    | 07 - Blind school                 |\n",
    "|                           |                            | PQ20T13                    | 13 - Nanking Rotary Club          |"
   ]
  },
  {
   "cell_type": "code",
   "execution_count": 2,
   "metadata": {
    "tags": [
     "hidden"
    ]
   },
   "outputs": [],
   "source": [
    "## Bibliography"
   ]
  },
  {
   "cell_type": "code",
   "execution_count": null,
   "metadata": {
    "tags": [
     "hidden"
    ]
   },
   "outputs": [],
   "source": [
    "<div class=\"cite2c-biblio\"></div>"
   ]
  }
 ],
 "metadata": {
  "celltoolbar": "Tags",
  "cite2c": {
   "citations": {
    "626961/2689WDL7": {
     "author": [
      {
       "family": "Goodman",
       "given": "Bryna"
      }
     ],
     "container-title": "China Review",
     "id": "626961/2689WDL7",
     "issue": "1",
     "issued": {
      "year": 2004
     },
     "language": "English",
     "note": "OCLC: 210552504",
     "page": "55-88",
     "page-first": "55",
     "title": "Semi-Colonialism, Transnational Networks and News Flows in Early Republican Shanghai",
     "type": "article-journal",
     "volume": "4"
    },
    "626961/4AQX8HJK": {
     "author": [
      {
       "family": "Rowe",
       "given": "William T"
      }
     ],
     "container-title": "Modern China",
     "id": "626961/4AQX8HJK",
     "issue": "3",
     "issued": {
      "year": 1990
     },
     "language": "English",
     "note": "OCLC: 6015264284",
     "page": "309-329",
     "page-first": "309",
     "title": "The Public Sphere in Modern China",
     "type": "article-journal",
     "volume": "16"
    },
    "626961/4RLTTJBN": {
     "DOI": "10.26615/978-954-452-056-4_159",
     "URL": "https://aclanthology.org/R19-1159",
     "abstract": "Dynamic topic models (DTMs) capture the evolution of topics and trends in time series data.Current DTMs are applicable only to monolingual datasets. In this paper we present the multilingual dynamic topic model (ML-DTM), a novel topic model that combines DTM with an existing multilingual topic modeling method to capture cross-lingual topics that evolve across time. We present results of this model on a parallel German-English corpus of news articles and a comparable corpus of Finnish and Swedish news articles. We demonstrate the capability of ML-DTM to track significant events related to a topic and show that it finds distinct topics and performs as well as existing multilingual topic models in aligning cross-lingual topics.",
     "accessed": {
      "day": 1,
      "month": 8,
      "year": 2022
     },
     "author": [
      {
       "family": "Zosa",
       "given": "Elaine"
      },
      {
       "family": "Granroth-Wilding",
       "given": "Mark"
      }
     ],
     "container-title": "Proceedings of the International Conference on Recent Advances in Natural Language Processing (RANLP 2019)",
     "event": "RANLP 2019",
     "event-place": "Varna, Bulgaria",
     "id": "626961/4RLTTJBN",
     "issued": {
      "month": 9,
      "year": 2019
     },
     "page": "1388–1396",
     "page-first": "1388",
     "publisher": "INCOMA Ltd.",
     "publisher-place": "Varna, Bulgaria",
     "title": "Multilingual Dynamic Topic Model",
     "type": "paper-conference"
    },
    "626961/4YPDTCZE": {
     "author": [
      {
       "family": "Armand",
       "given": "Cécile"
      }
     ],
     "container-title": "Knowledge, Power, and Networks: Elites in Transition in Modern China",
     "editor": [
      {
       "family": "Armand",
       "given": "Cécile"
      },
      {
       "family": "Henriot",
       "given": "Christian"
      },
      {
       "family": "Sun",
       "given": "Huei-min"
      }
     ],
     "event-place": "Leiden",
     "id": "626961/4YPDTCZE",
     "issued": {
      "year": 2022
     },
     "page": "233-259",
     "page-first": "233",
     "publisher": "Brill",
     "publisher-place": "Leiden",
     "title": "Foreign Clubs with Chinese Flavor: The Rotary Club of Shanghai and the Politics of Language",
     "type": "chapter"
    },
    "626961/6M7LWV62": {
     "author": [
      {
       "family": "Huang",
       "given": "Philip C.C"
      }
     ],
     "container-title": "Modern China Modern China",
     "id": "626961/6M7LWV62",
     "issue": "2",
     "issued": {
      "year": 1993
     },
     "language": "English",
     "note": "OCLC: 4647465614",
     "page": "216-240",
     "page-first": "216",
     "shortTitle": "\"Public Sphere \"/\"Civil Society\" in China?",
     "title": "\"Public Sphere \"/\"Civil Society\" in China? The Third Realm between State and Society",
     "title-short": "\"Public Sphere \"/\"Civil Society\" in China?",
     "type": "article-journal",
     "volume": "19"
    },
    "626961/96H7I4VF": {
     "abstract": "Les origines de la sphère publique en Chine : élites locales et activités communautaires à la fin de l'empire On assiste en Chine à partir du début du XVIIe siècle à l'émergence d'une «sphère publique» à mi-chemin entre la société et l'État, analogue à celle décrite par Jürgen Habermas dans le cas de l'Europe occidentale. La sphère publique en Chine prend cependant des formes locales et gestionnaires particulières. Elle est à mettre en rapport avec la croissance démographique et celle du commerce, ainsi qu'avec le développement d'une société de notables et de marchands, plutôt qu'avec celui du capitalisme ou d'une bourgeoisie. Les progrès de la sphère publique se reflètent dans l'élargissement sémantique du terme gong («public») à travers son association avec diverses activités extra-bureaucratiques et ses combinaisons avec des termes impliquant une coopération communautaire ou des responsabilités indépendantes de celles de l'État. Son expansion confère une légitimité institutionnelle à diverses fonctions publiques assumées par les élites locales, accroît les capacités organisationnelles de la société, et élargit l'espace laissé à la rencontre et au débat. Cette progressive altération de l'équilibre entre État et société a préparé le terrain pour les changements plus décisifs qui se produisent au lendemain de la rébellion des Taiping.",
     "accessed": {
      "day": 30,
      "month": 7,
      "year": 2022
     },
     "author": [
      {
       "family": "Rankin",
       "given": "Mary Backus"
      }
     ],
     "container-title": "Études chinoises",
     "id": "626961/96H7I4VF",
     "issue": "2",
     "issued": {
      "year": 1990
     },
     "language": "eng",
     "note": "Publisher: Persée - Portail des revues scientifiques en SHS",
     "page": "13-60",
     "page-first": "13",
     "title": "The Origins of a Chinese Public Sphere. Local Elites and Community Affairs in the Late Imperial Period",
     "type": "article-journal",
     "volume": "9"
    },
    "626961/ADRQ6K6S": {
     "author": [
      {
       "family": "Nelson",
       "given": "Laura K"
      }
     ],
     "container-title": "Sociological Methods & Research Sociological Methods & Research",
     "id": "626961/ADRQ6K6S",
     "issue": "1",
     "issued": {
      "year": 2020
     },
     "language": "English",
     "note": "OCLC: 7220181520",
     "page": "3-42",
     "page-first": "3",
     "shortTitle": "Computational Grounded Theory",
     "title": "Computational Grounded Theory: A Methodological Framework",
     "title-short": "Computational Grounded Theory",
     "type": "article-journal",
     "volume": "49"
    },
    "626961/AIA2V386": {
     "ISBN": "978-90-04-16367-6",
     "author": [
      {
       "family": "Kaske",
       "given": "Elisabeth"
      }
     ],
     "collection-title": "Sinica Leidensia",
     "event-place": "Leiden",
     "id": "626961/AIA2V386",
     "issued": {
      "year": 2007
     },
     "language": "English",
     "note": "OCLC: 262717998",
     "publisher": "Brill",
     "publisher-place": "Leiden",
     "title": "The politics of language in Chinese education, 1895-1919",
     "type": "book",
     "volume": "82"
    },
    "626961/CTH9XCRS": {
     "URL": "https://CRAN.R-project.org/package=stm",
     "abstract": "The Structural Topic Model (STM) allows researchers to estimate topic models with document-level covariates. The package also includes tools for model selection, visualization, and estimation of topic-covariate regressions. Methods developed in Roberts et. al. (2014) <doi:10.1111/ajps.12103> and Roberts et. al. (2016) <doi:10.1080/01621459.2016.1141684>. Vignette is Roberts et. al. (2019) <doi:10.18637/jss.v091.i02>.",
     "accessed": {
      "day": 3,
      "month": 8,
      "year": 2022
     },
     "author": [
      {
       "family": "Roberts",
       "given": "Margaret"
      },
      {
       "family": "Stewart",
       "given": "Brandon"
      },
      {
       "family": "Tingley",
       "given": "Dustin"
      },
      {
       "family": "Benoit",
       "given": "Kenneth"
      }
     ],
     "id": "626961/CTH9XCRS",
     "issued": {
      "day": 18,
      "month": 9,
      "year": 2020
     },
     "shortTitle": "stm",
     "title": "stm: Estimation of the Structural Topic Model",
     "title-short": "stm",
     "type": "book",
     "version": "1.3.6"
    },
    "626961/DLHJEUJA": {
     "URL": "https://www.jstor.org/stable/655422",
     "accessed": {
      "day": 17,
      "month": 6,
      "year": 2020
     },
     "archive": "JSTOR",
     "author": [
      {
       "family": "Wagner",
       "given": "Rudolf G."
      }
     ],
     "container-title": "The China Quarterly",
     "id": "626961/DLHJEUJA",
     "issue": "142",
     "issued": {
      "year": 1995
     },
     "note": "Publisher: Cambridge University Press",
     "page": "423-443",
     "page-first": "423",
     "title": "The Role of the Foreign Community in the Chinese Public Sphere",
     "type": "article-journal"
    },
    "626961/DNUIWSYJ": {
     "abstract": "Banditry and unrest in eighteenth and nineteenth century China have attracted substantial attention from several generations of researchers. Often, they apply particular ontologies a priori to the source base. Given their reliance on state documents, these studies are subject to the perspectives of record-keepers and their theories of violence. It is particularly difficult to apply fixed definitions to concepts like “banditry” and “unrest”—a problem that applies as much to modern researchers as to our historical informants. To better view the nature of violence in the Qing Dynasty—as routine crime, and as rebellion and unrest—it is important to develop a model of how administrators understood it. Therefore, rather than assuming a fixed set of categories, this study models Qing administrators’ typologies of violence based on the frequencies of term co-occurrence. Based on the term groupings in the model, five topics relate to violent unrest. Each topic accounts for a particular statistical pattern of word use corresponding to patterns of occurrence, observation and recording of related phenomena. These groupings give some insight into the “crime rates” of the eighteenth and nineteenth centuries, and more importantly, these groupings cast light on their understandings of crime, rebellion and unrest.",
     "accessed": {
      "day": 5,
      "month": 8,
      "year": 2022
     },
     "author": [
      {
       "family": "Miller",
       "given": "Ian Matthew"
      }
     ],
     "collection-title": "Topic Models and the Cultural Sciences",
     "container-title": "Poetics",
     "container-title-short": "Poetics",
     "id": "626961/DNUIWSYJ",
     "issue": "6",
     "issued": {
      "day": 1,
      "month": 12,
      "year": 2013
     },
     "journalAbbreviation": "Poetics",
     "language": "en",
     "page": "626-649",
     "page-first": "626",
     "shortTitle": "Rebellion, crime and violence in Qing China, 1722–1911",
     "title": "Rebellion, crime and violence in Qing China, 1722–1911: A topic modeling approach",
     "title-short": "Rebellion, crime and violence in Qing China, 1722–1911",
     "type": "article-journal",
     "volume": "41"
    },
    "626961/FUBAMMM3": {
     "abstract": "Historians are confronted with an overabundance of sources that require new perspectives and tools to make use of large-scale corpora. Based on a use case from the history of psychiatry this paper describes the work of an interdisciplinary team to tackle these challenges by combining different NLP tools with new visual interfaces that foster the exploration of the corpus. The paper highlights several research challenges in the preparation and processing of the corpus and sketches new insights for historical research that were gathered due to the use of the tools.",
     "accessed": {
      "day": 13,
      "month": 8,
      "year": 2021
     },
     "author": [
      {
       "family": "Andersen",
       "given": "Eva"
      },
      {
       "family": "Biryukov",
       "given": "Maria"
      },
      {
       "family": "Kalyakin",
       "given": "Roman"
      },
      {
       "family": "Wieneke",
       "given": "Lars"
      }
     ],
     "container-title": "Journal of Data Mining and Digital Humanities",
     "id": "626961/FUBAMMM3",
     "issued": {
      "month": 12,
      "year": 2020
     },
     "note": "Publisher: Episciences.org",
     "page": "1-24",
     "page-first": "1",
     "shortTitle": "How to read the 52.000 pages of the British Journal of Psychiatry?",
     "title": "How to read the 52.000 pages of the British Journal of Psychiatry? A collaborative approach to source exploration",
     "title-short": "How to read the 52.000 pages of the British Journal of Psychiatry?",
     "type": "article-journal",
     "volume": "2020"
    },
    "626961/FY6ZQ7SB": {
     "accessed": {
      "day": 31,
      "month": 5,
      "year": 2021
     },
     "editor": [
      {
       "family": "Wagner",
       "given": "Rudolf G"
      }
     ],
     "event-place": "Albany, NY",
     "id": "626961/FY6ZQ7SB",
     "issued": {
      "year": 2007
     },
     "language": "English",
     "note": "OCLC: 897111258",
     "publisher": "State University of New York Press",
     "publisher-place": "Albany, NY",
     "shortTitle": "Joining the global public",
     "title": "Joining the global public: word, image, and city in early Chinese newspapers, 1870-1910",
     "title-short": "Joining the global public",
     "type": "book"
    },
    "626961/GICNI827": {
     "ISBN": "0-8047-2741-4 978-0-8047-2741-9",
     "abstract": "Print and Politics offers a cultural history of a late Qing newspaper, Shibao, the most influential reform daily of its time. Exploring the simultaneous emergence of a new print culture and a new culture of politics in early-twentieth-century China, the book treats Shibao as both institution and text and demonstrates how the journalists who wrote for the paper attempted to take out a \"middle realm\" of discourse and practice. Chronicling the role these journalists played in educational and constitutional organizations, as well as their involvement in major issues of the day, it analyzes their essays as political documents and as cultural artifacts. Particular attention is paid to the language the journalists used, the cultural constructs they employed to structure their arguments, and the multiple sources of authority they appealed to in advancing their claims for reform.",
     "author": [
      {
       "family": "Judge",
       "given": "Joan"
      }
     ],
     "event-place": "Stanford, Calif.",
     "id": "626961/GICNI827",
     "issued": {
      "year": 1996
     },
     "language": "English",
     "publisher": "Stanford University Press",
     "publisher-place": "Stanford, Calif.",
     "shortTitle": "Print and politics",
     "title": "Print and politics: 'Shibao' and the culture of reform in late Qing China",
     "title-short": "Print and politics",
     "type": "book"
    },
    "626961/GT2TR8Y6": {
     "URL": "https://aclanthology.org/W11-1513",
     "accessed": {
      "day": 5,
      "month": 8,
      "year": 2022
     },
     "author": [
      {
       "family": "Yang",
       "given": "Tze-I"
      },
      {
       "family": "Torget",
       "given": "Andrew"
      },
      {
       "family": "Mihalcea",
       "given": "Rada"
      }
     ],
     "container-title": "Proceedings of the 5th ACL-HLT Workshop on Language Technology for Cultural Heritage, Social Sciences, and Humanities",
     "event-place": "Portland, OR, USA",
     "id": "626961/GT2TR8Y6",
     "issued": {
      "month": 6,
      "year": 2011
     },
     "page": "96–104",
     "page-first": "96",
     "publisher": "Association for Computational Linguistics",
     "publisher-place": "Portland, OR, USA",
     "title": "Topic Modeling on Historical Newspapers",
     "type": "paper-conference"
    },
    "626961/GWQTUMXN": {
     "DOI": "10.1080/21670811.2018.1512879",
     "URL": "https://doi.org/10.1080/21670811.2018.1512879",
     "abstract": "This article considers how, and why, “Topic Modelling” tools can be used to analyse historical newspaper archives. While a growing number of media and communication studies projects have applied these techniques to corpuses of born-digital journalism, using the same tools to analyse large-scale collections of historical newspapers requires us to overcome additional technological and methodological challenges. Our discussion is framed around a historical case study examining references to the United States in the 19th Century British Library Newspaper Archive. The article begins by highlighting the problems that researchers of both digital and historical journalism face when attempting to deal with an enormous body of evidence. Next, it argues that Topic Modelling offers one potential solution to these problems by providing a way to “distant read” the archive. The remainder of the article is divided into five experiments that demonstrate how Topic Modelling can be applied to a series of research questions, each of which is applicable to other projects that might make use of newspaper archives. As well as demonstrating the investigative potential of topic modelling, the article also highlights the practical and technological barriers that currently undermine its effectiveness, particularly when it is applied to archives of historical material.",
     "accessed": {
      "day": 7,
      "month": 4,
      "year": 2022
     },
     "author": [
      {
       "family": "Van Galen",
       "given": "Quintus"
      },
      {
       "family": "Nicholson",
       "given": "Bob"
      }
     ],
     "container-title": "Digital Journalism",
     "id": "626961/GWQTUMXN",
     "issue": "9",
     "issued": {
      "day": 21,
      "month": 10,
      "year": 2018
     },
     "page": "1165-1185",
     "page-first": "1165",
     "title": "In Search of America",
     "type": "article-journal",
     "volume": "6"
    },
    "626961/HLNNBCY7": {
     "abstract": "This work is part of a broader project which requires adapting information extraction (IE) methods to written materials (mostly press articles) published in China between the mid 19th and the mid 20th centuries. This calls for a better understanding and description of the language(s) we can observe in our sources. More importantly, it is an unprecedented opportunity to provide a usage-based description of written languages as used in the press in Modern China. There is an abundant literature describing this pivotal era from different perspectives and disciplines related to language, including the history of language policies (Kaske, 2008), the socio-linguistic aspects (Weng, 2018) or historical linguistics (Coblin, 2000, Simmons, 2017). However what is presented in this article is, as far as I know, the first usage-based study to leverage a complete corpus of almost 80 years of a daily newspaper, the Shen-Pao(申報), containing about 750 Millions sinograms to account for the actual practices and their evolution through time. In order to do so, I propose new Computational Linguistics methods and tools inspired by recent works in the field, especially Language Modeling and Contextual String Embeddings.",
     "accessed": {
      "day": 13,
      "month": 8,
      "year": 2021
     },
     "author": [
      {
       "family": "Magistry",
       "given": "Pierre"
      }
     ],
     "container-title": "10th International Conference of Digital Archives and Digital Humanities",
     "event-place": "Taipei, Taiwan",
     "id": "626961/HLNNBCY7",
     "issued": {
      "month": 12,
      "year": 2019
     },
     "publisher-place": "Taipei, Taiwan",
     "title": "Languages(s) of the Shun-Pao, a Computational Linguistics account",
     "type": "paper-conference"
    },
    "626961/HYY7TCKK": {
     "ISBN": "978-7-5097-3462-9",
     "author": [
      {
       "family": "Tang Xiaobing 唐小兵",
       "given": ""
      }
     ],
     "collection-title": "Dong fang li shi xue shu wen ku",
     "event-place": "Beijing",
     "id": "626961/HYY7TCKK",
     "issued": {
      "year": 2012
     },
     "language": "chi",
     "note": "OCLC: 807035172",
     "number-of-pages": "376",
     "publisher": "Sheke wenxian chubanshe",
     "publisher-place": "Beijing",
     "shortTitle": "现代中国的公共舆论",
     "title": "Xiandai Zhongguo de gonggong yulun: yi Dagongbao “Xingqi lunwen” he Shenbao “Ziyoutan” wei li 现代中国的公共舆论: 以\"大公报\"\"星期论文\"和\"申报\"\"自由谈\"为例 (Public Opinion in Modern China: Dagongbao’s “Weekly Essay” and Shenbao’s “Free Conversation” Columns)",
     "title-short": "现代中国的公共舆论",
     "type": "book"
    },
    "626961/I283MNWA": {
     "accessed": {
      "day": 24,
      "month": 11,
      "year": 2019
     },
     "archive": "JSTOR",
     "author": [
      {
       "family": "Wakeman",
       "given": "Frederic"
      }
     ],
     "container-title": "Modern China",
     "id": "626961/I283MNWA",
     "issue": "2",
     "issued": {
      "year": 1993
     },
     "page": "108-138",
     "page-first": "108",
     "shortTitle": "The Civil Society and Public Sphere Debate",
     "title": "The Civil Society and Public Sphere Debate: Western Reflections on Chinese Political Culture",
     "title-short": "The Civil Society and Public Sphere Debate",
     "type": "article-journal",
     "volume": "19"
    },
    "626961/IBT42XJB": {
     "DOI": "10.1016/j.poetic.2020.101527",
     "URL": "https://www.sciencedirect.com/science/article/pii/S0304422X20302813",
     "abstract": "Social scientists are using computational tools to expand their content research beyond what is humanly readable. This often requires filtering corpora for complex research concepts. The commonly used off-the-shelf filtering techniques are untested at this task. Dictionaries may not recognize language outside of investigators’ expectations and thresholding on topic proportions from topic models may fail to identify brief references to concepts. We develop a typology of texts as they relate to a research concept and use this to structure a filtering procedure. We compare our procedure's performance with dictionary-only and topic-proportion-only approaches on two corpora—government speeches and academic articles—and two research concepts—housing crisis and inequality. Our procedure outperforms overall and on each type of relevant text in the typology. An open-source software package is available for implementing the procedure. This provides researchers with a more structured and tested approach for filtering text data. Additionally, the types-of-text typology analysis provides a unique examination of what constitutes a filtered dataset, allowing researchers to consider how conclusions may be affected.",
     "accessed": {
      "day": 15,
      "month": 9,
      "year": 2022
     },
     "author": [
      {
       "family": "Eads",
       "given": "Alicia"
      },
      {
       "family": "Schofield",
       "given": "Alexandra"
      },
      {
       "family": "Mahootian",
       "given": "Fauna"
      },
      {
       "family": "Mimno",
       "given": "David"
      },
      {
       "family": "Wilderom",
       "given": "Rens"
      }
     ],
     "container-title": "Poetics",
     "container-title-short": "Poetics",
     "id": "626961/IBT42XJB",
     "issued": {
      "day": 1,
      "month": 6,
      "year": 2021
     },
     "journalAbbreviation": "Poetics",
     "language": "en",
     "page": "1-19",
     "page-first": "1",
     "shortTitle": "Separating the wheat from the chaff",
     "title": "Separating the wheat from the chaff: A topic and keyword-based procedure for identifying research-relevant text",
     "title-short": "Separating the wheat from the chaff",
     "type": "article-journal",
     "volume": "86"
    },
    "626961/ICISENGW": {
     "DOI": "10.1080/19312458.2021.1955845",
     "URL": "https://doi.org/10.1080/19312458.2021.1955845",
     "abstract": "The goal of this paper is to evaluate two methods for the topic modeling of multilingual document collections: (1) machine translation (MT), and (2) the coding of semantic concepts using a multilingual dictionary (MD) prior to topic modeling. We empirically assess the consequences of these approaches based on both a quantitative comparison of models and a qualitative validation of each method’s potentials and weaknesses. Our case study uses two text collections (of tweets and news articles) in three languages (English, Hebrew, Arabic), covering the ongoing local conflicts between Israeli authorities, settlers, and Palestinian Bedouins in the West Bank. We find that both methods produce a large share of equivalent topics, especially in the context of fairly homogenous news discourse, yet show limited but systematic differences when applied to highly heterogenous social media discourse. While the MD model delivers a more nuanced picture of conflict-related topics, it misses several more peripheral topics, especially those unrelated to the dictionary’s focus, which are picked up by the MT model. Our study is a first step toward instrument validation, indicating that both methods yield valid, comparable results, while method-specific differences remain.",
     "accessed": {
      "day": 1,
      "month": 8,
      "year": 2022
     },
     "author": [
      {
       "family": "Maier",
       "given": "Daniel"
      },
      {
       "family": "Baden",
       "given": "Christian"
      },
      {
       "family": "Stoltenberg",
       "given": "Daniela"
      },
      {
       "family": "De Vries-Kedem",
       "given": "Maya"
      },
      {
       "family": "Waldherr",
       "given": "Annie"
      }
     ],
     "container-title": "Communication Methods and Measures",
     "id": "626961/ICISENGW",
     "issue": "1",
     "issued": {
      "day": 2,
      "month": 1,
      "year": 2022
     },
     "note": "Publisher: Routledge\n_eprint: https://doi.org/10.1080/19312458.2021.1955845",
     "page": "19-38",
     "page-first": "19",
     "title": "Machine Translation Vs. Multilingual Dictionaries Assessing Two Strategies for the Topic Modeling of Multilingual Text Collections",
     "type": "article-journal",
     "volume": "16"
    },
    "626961/IE4K5VAI": {
     "ISBN": "978-0-674-01217-2",
     "author": [
      {
       "family": "Mittler",
       "given": "Barbara"
      }
     ],
     "event-place": "Cambridge",
     "id": "626961/IE4K5VAI",
     "issued": {
      "year": 2004
     },
     "publisher": "Harvard University Press",
     "publisher-place": "Cambridge",
     "shortTitle": "A newspaper for China?",
     "title": "A newspaper for China? Power, identity, and change in Shanghai's news media, 1872-1912",
     "title-short": "A newspaper for China?",
     "type": "book"
    },
    "626961/IQFS98C6": {
     "author": [
      {
       "family": "Tsai",
       "given": "Weipin"
      }
     ],
     "event-place": "Houndmills, Basingstoke",
     "id": "626961/IQFS98C6",
     "issued": {
      "year": 2008
     },
     "language": "English",
     "note": "OCLC: 489532552",
     "publisher": "Palgrave Macmillan",
     "publisher-place": "Houndmills, Basingstoke",
     "shortTitle": "Reading Shenbao",
     "title": "Reading Shenbao: Nationalism, Consumerism and Individuality in China, 1919-37",
     "title-short": "Reading Shenbao",
     "type": "book"
    },
    "626961/IZHGPD6V": {
     "URL": "https://www.c2dh.uni.lu/thinkering/nibbling-text-identifying-discourses-europe-large-collection-historical-newspapers-using",
     "abstract": "How can computer-assisted methods help us to solve problems that are fundamental to historical research? In a series of two blog posts we discuss a research pilot that aims to identify anti-modernist discourses on Europe in historical Swiss newspapers from the period 1939-1945.",
     "accessed": {
      "day": 13,
      "month": 8,
      "year": 2021
     },
     "author": [
      {
       "family": "Bunout",
       "given": "Estelle"
      }
     ],
     "container-title": "C2DH | Luxembourg Centre for Contemporary and Digital History",
     "id": "626961/IZHGPD6V",
     "issued": {
      "day": 21,
      "month": 6,
      "year": 2019
     },
     "language": "en",
     "shortTitle": "Nibbling at text",
     "title": "Nibbling at text: identifying discourses on Europe in a large collection of historical newspapers using topic modelling",
     "title-short": "Nibbling at text",
     "type": "post-weblog"
    },
    "626961/J8VVKEE7": {
     "URL": "https://heinonline.org/HOL/Page?handle=hein.journals/probscmu39&id=245&div=&collection=",
     "author": [
      {
       "family": "Strand",
       "given": "David"
      }
     ],
     "container-title": "Problems of Communism",
     "container-title-short": "Probs. Communism",
     "id": "626961/J8VVKEE7",
     "issued": {
      "year": 1990
     },
     "journalAbbreviation": "Probs. Communism",
     "page": "1",
     "page-first": "1",
     "shortTitle": "Protest in Beijing",
     "title": "Protest in Beijing: Civil Society and Public Sphere in China",
     "title-short": "Protest in Beijing",
     "type": "article-journal",
     "volume": "39"
    },
    "626961/JPQDI8X3": {
     "URL": "https://journalofdigitalhistory.org/en/article/4yxHGiqXYRbX",
     "author": [
      {
       "family": "Oberbichler",
       "given": "Sarah"
      },
      {
       "family": "Pfanzelter",
       "given": "Eva"
      }
     ],
     "container-title": "Journal of Digital History",
     "id": "626961/JPQDI8X3",
     "issue": "1",
     "issued": {
      "day": 28,
      "month": 10,
      "year": 2021
     },
     "title": "Topic-specific corpus building: A step towards a representative newspaper corpus on the topic of return migration using text mining methods",
     "type": "article-journal",
     "volume": "1"
    },
    "626961/KLCSUKFR": {
     "ISBN": "978-7-5664-0780-1",
     "abstract": "本书致力于加深读者对于晚清以来中国报业历史的理解, 结合翔实的史料进行这一时段的专业历史的脉络梳理, 使之对于这段历史有较为清晰的认识.",
     "author": [
      {
       "family": "Liu Li 刘丽",
       "given": ""
      }
     ],
     "event-place": "Hefei",
     "id": "626961/KLCSUKFR",
     "issued": {
      "year": 2014
     },
     "language": "zh",
     "note": "Google-Books-ID: D7cPogEACAAJ",
     "number-of-pages": "246",
     "publisher": "Anhui daxue chubanshe 安徽大学出版社",
     "publisher-place": "Hefei",
     "shortTitle": "中国近代报业采访史论",
     "title": "Zhongguo jindai baoye caifang shilun: yi shenbao wei zhongxin de kaocha 中国近代报业采访史论: 以《申报》为中心的考察 (Histoire du journalisme moderne en Chine : une étude centrée sur le Shenbao)",
     "title-short": "中国近代报业采访史论",
     "type": "book"
    },
    "626961/KX6J2KTE": {
     "container-title": "Zhongguo shehuikexue jikan 中国社会季刊",
     "id": "626961/KX6J2KTE",
     "issue": "3",
     "issued": {
      "year": 1993
     },
     "page": "5-62",
     "page-first": "5",
     "title": "Shimin shehui yu guojia: xueli shang de fenye liang zhong jiagou 市民社会与国家 -- 学理上的分野与两种架构 (Civil Society and China: Theoretical divide and dual structure)",
     "type": "article-journal"
    },
    "626961/MJ4JJVIV": {
     "ISBN": "978-1-932432-62-6",
     "abstract": "Topic models are a useful tool for analyzing large text collections, but have previously been applied in only monolingual, or at most bilingual, contexts. Meanwhile, massive collections of interlinked documents in dozens of languages, such as Wikipedia, are now widely available, calling for tools that can characterize content in many languages. We introduce a polylingual topic model that discovers topics aligned across multiple languages. We explore the model's characteristics using two large corpora, each with over ten different languages, and demonstrate its usefulness in supporting machine translation and tracking topic trends across languages.",
     "accessed": {
      "day": 1,
      "month": 8,
      "year": 2022
     },
     "author": [
      {
       "family": "Mimno",
       "given": "David"
      },
      {
       "family": "Wallach",
       "given": "Hanna M."
      },
      {
       "family": "Naradowsky",
       "given": "Jason"
      },
      {
       "family": "Smith",
       "given": "David A."
      },
      {
       "family": "McCallum",
       "given": "Andrew"
      }
     ],
     "collection-title": "EMNLP '09",
     "container-title": "Proceedings of the 2009 Conference on Empirical Methods in Natural Language Processing: Volume 2 - Volume 2",
     "event-place": "USA",
     "id": "626961/MJ4JJVIV",
     "issued": {
      "day": 6,
      "month": 8,
      "year": 2009
     },
     "page": "880–889",
     "page-first": "880",
     "publisher": "Association for Computational Linguistics",
     "publisher-place": "USA",
     "title": "Polylingual topic models",
     "type": "paper-conference"
    },
    "626961/N5ILEHTS": {
     "container-title": "The North China Herald",
     "id": "626961/N5ILEHTS",
     "issued": {
      "day": 28,
      "month": 8,
      "year": 1935
     },
     "page": "343",
     "page-first": "343",
     "title": "Rotary’s Progress in China",
     "type": "article-newspaper"
    },
    "626961/QHLTKGQB": {
     "DOI": "10.18653/v1/D19-1120",
     "URL": "https://aclanthology.org/D19-1120",
     "abstract": "Multilingual topic models (MTMs) learn topics on documents in multiple languages. Past models align topics across languages by implicitly assuming the documents in different languages are highly comparable, often a false assumption. We introduce a new model that does not rely on this assumption, particularly useful in important low-resource language scenarios. Our MTM learns weighted topic links and connects cross-lingual topics only when the dominant words defining them are similar, outperforming LDA and previous MTMs in classification tasks using documents' topic posteriors as features. It also learns coherent topics on documents with low comparability.",
     "accessed": {
      "day": 1,
      "month": 8,
      "year": 2022
     },
     "author": [
      {
       "family": "Yang",
       "given": "Weiwei"
      },
      {
       "family": "Boyd-Graber",
       "given": "Jordan"
      },
      {
       "family": "Resnik",
       "given": "Philip"
      }
     ],
     "container-title": "Proceedings of the 2019 Conference on Empirical Methods in Natural Language Processing and the 9th International Joint Conference on Natural Language Processing (EMNLP-IJCNLP)",
     "event": "EMNLP-IJCNLP 2019",
     "event-place": "Hong Kong, China",
     "id": "626961/QHLTKGQB",
     "issued": {
      "month": 11,
      "year": 2019
     },
     "page": "1243–1248",
     "page-first": "1243",
     "publisher": "Association for Computational Linguistics",
     "publisher-place": "Hong Kong, China",
     "title": "A Multilingual Topic Model for Learning Weighted Topic Links Across Corpora with Low Comparability",
     "type": "paper-conference"
    },
    "626961/RRWSXTCT": {
     "ISBN": "978-0-8179-3842-0",
     "author": [
      {
       "family": "Metzger",
       "given": "Thomas A."
      }
     ],
     "collection-title": "Hoover essays",
     "event-place": "Stanford, Calif.",
     "id": "626961/RRWSXTCT",
     "issued": {
      "year": 1998
     },
     "language": "eng",
     "note": "OCLC: 38024229",
     "number-of-pages": "37",
     "publisher": "Hoover Institution on War, Revolution and Peace, Stanford University",
     "publisher-place": "Stanford, Calif.",
     "title": "The Western concept of the civil society in the context of Chinese history",
     "type": "book"
    },
    "626961/SW2G3JLE": {
     "ISBN": "978-3-030-42855-6",
     "abstract": "This chapter applies computational methods of textual analysis to a large corpus of media texts to study ideational change. The empirical focus of the chapter is on the ideas of the political role of innovation, technology, and economic development that were introduced into Russian politics during Medvedev’s presidency. The chapter uses topic modeling, shows the limitations of the method, and provides a more nuanced analysis with the help of word embeddings. The latter method is used to analyze semantic change and to capture complex semantic relationships between the studied concepts.",
     "accessed": {
      "day": 13,
      "month": 8,
      "year": 2021
     },
     "author": [
      {
       "family": "Indukaev",
       "given": "Andrey"
      }
     ],
     "container-title": "The Palgrave Handbook of Digital Russia Studies",
     "editor": [
      {
       "family": "Gritsenko",
       "given": "Daria"
      },
      {
       "family": "Wijermars",
       "given": "Mariëlle"
      },
      {
       "family": "Kopotev",
       "given": "Mikhail"
      }
     ],
     "event-place": "Cham",
     "id": "626961/SW2G3JLE",
     "issued": {
      "year": 2021
     },
     "language": "en",
     "note": "DOI: 10.1007/978-3-030-42855-6_25",
     "page": "443-464",
     "page-first": "443",
     "publisher": "Springer",
     "publisher-place": "Cham",
     "title": "Studying Ideational Change in Russian Politics with Topic Models and Word Embeddings",
     "type": "chapter"
    },
    "626961/T3RS3HRR": {
     "author": [
      {
       "family": "Armand",
       "given": "Cécile"
      }
     ],
     "event-place": "Berlin",
     "id": "626961/T3RS3HRR",
     "publisher": "De Gruyter",
     "publisher-place": "Berlin",
     "title": "La publicité en Chine: espaces et pouvoirs (1905-1949) [Between the Public and the Market: The Politics of Advertising in moden China 1905-1949)]",
     "type": "book"
    },
    "626961/TMXZ36NA": {
     "DOI": "10.1007/s11229-020-02806-w",
     "URL": "https://doi.org/10.1007/s11229-020-02806-w",
     "abstract": "This paper investigates how unsupervised machine learning methods might make hermeneutic interpretive text analysis more objective in the social sciences. Through a close examination of the uses of topic modeling—a popular unsupervised approach in the social sciences—it argues that the primary way in which unsupervised learning supports interpretation is by allowing interpreters to discover unanticipated information in larger and more diverse corpora and by improving the transparency of the interpretive process. This view highlights that unsupervised modeling does not eliminate the researchers’ judgments from the process of producing evidence for social scientific theories. The paper shows this by distinguishing between two prevalent attitudes toward topic modeling, i.e., topic realism and topic instrumentalism. Under neither can modeling provide social scientific evidence without the researchers’ interpretive engagement with the original text materials. Thus the unsupervised text analysis cannot improve the objectivity of interpretation by alleviating the problem of underdetermination in interpretive debate. The paper argues that the sense in which unsupervised methods can improve objectivity is by providing researchers with the resources to justify to others that their interpretations are correct. This kind of objectivity seeks to reduce suspicions in collective debate that interpretations are the products of arbitrary processes influenced by the researchers’ idiosyncratic decisions or starting points. The paper discusses this view in relation to alternative approaches to formalizing interpretation and identifies several limitations on what unsupervised learning can be expected to achieve in terms of supporting interpretive work.",
     "accessed": {
      "day": 15,
      "month": 9,
      "year": 2022
     },
     "author": [
      {
       "family": "Pääkkönen",
       "given": "Juho"
      },
      {
       "family": "Ylikoski",
       "given": "Petri"
      }
     ],
     "container-title": "Synthese",
     "container-title-short": "Synthese",
     "id": "626961/TMXZ36NA",
     "issue": "1",
     "issued": {
      "day": 1,
      "month": 12,
      "year": 2021
     },
     "journalAbbreviation": "Synthese",
     "language": "en",
     "page": "1461-1497",
     "page-first": "1461",
     "title": "Humanistic interpretation and machine learning",
     "type": "article-journal",
     "volume": "199"
    },
    "626961/TYNA7Q8G": {
     "URL": "http://arxiv.org/abs/2011.10428",
     "abstract": "This paper addresses methodological issues in diachronic data analysis for historical research. We apply two families of topic models (LDA and DTM) on a relatively large set of historical newspapers, with the aim of capturing and understanding discourse dynamics. Our case study focuses on newspapers and periodicals published in Finland between 1854 and 1917, but our method can easily be transposed to any diachronic data. Our main contributions are a) a combined sampling, training and inference procedure for applying topic models to huge and imbalanced diachronic text collections; b) a discussion on the differences between two topic models for this type of data; c) quantifying topic prominence for a period and thus a generalization of document-wise topic assignment to a discourse level; and d) a discussion of the role of humanistic interpretation with regard to analysing discourse dynamics through topic models.",
     "accessed": {
      "day": 12,
      "month": 5,
      "year": 2022
     },
     "author": [
      {
       "family": "Marjanen",
       "given": "Jani"
      },
      {
       "family": "Zosa",
       "given": "Elaine"
      },
      {
       "family": "Hengchen",
       "given": "Simon"
      },
      {
       "family": "Pivovarova",
       "given": "Lidia"
      },
      {
       "family": "Tolonen",
       "given": "Mikko"
      }
     ],
     "container-title": "arXiv:2011.10428 [cs]",
     "id": "626961/TYNA7Q8G",
     "issued": {
      "day": 20,
      "month": 11,
      "year": 2020
     },
     "note": "arXiv: 2011.10428",
     "title": "Topic modelling discourse dynamics in historical newspapers",
     "type": "article-journal"
    },
    "626961/U2J8FG4X": {
     "abstract": "本书收录了邓正来先生从1992年以来就“国家与市民社会”论题发表的一些论文和译文，包括：构建中国的市民社会、市民社会与国家、台湾民间社会语式的研究、国家与社会等。",
     "editor": [
      {
       "family": "Deng Zhenglai 邓正来著",
       "given": ""
      }
     ],
     "id": "626961/U2J8FG4X",
     "issued": {
      "day": 12,
      "month": 11,
      "year": 2021
     },
     "language": "zh",
     "note": "Google-Books-ID: MKhWEAAAQBAJ",
     "number-of-pages": "315",
     "publisher": "Beijing Book Co. Inc.",
     "title": "Guojia yu shehui: Zhongguo shimin shehui yanjiu 国家与社会：中国市民社会研究 (State and Society: Research on Chinese Civil Society)",
     "type": "book"
    },
    "626961/VLTXFZ9R": {
     "abstract": "Topic Modelling (TM) has gained momentum over the last few years within the humanities to analyze topics represented in large volumes of full text. This paper proposes an experiment with the usage of TM based on a large subset of digitized archival holdings of the European Commission (EC). Currently, millions of scanned and OCRed files are available and hold the potential to significantly change the way historians of the construction and evolution of the European Union can perform their research. However, due to a lack of resources, only minimal metadata are available on a file and document level, seriously undermining the accessibility of this archival collection. The article explores in an empirical manner the possibilities and limits of TM to automatically extract key concepts from a large body of documents spanning multiple decades. By mapping the topics to headings of the EUROVOC thesaurus, the proof of concept described in this paper offers the future possibility to represent the identified topics with the help of a hierarchical search interface for end-users.",
     "author": [
      {
       "family": "Hengchen",
       "given": "Simon"
      },
      {
       "family": "Coeckelbergs",
       "given": "Mathias"
      },
      {
       "family": "van Hooland",
       "given": "Seth"
      },
      {
       "family": "Verborgh",
       "given": "Ruben"
      },
      {
       "family": "Steiner",
       "given": "Thomas"
      }
     ],
     "container-title": "2016 IEEE International Conference on Big Data (Big Data)",
     "event": "2016 IEEE International Conference on Big Data (Big Data)",
     "id": "626961/VLTXFZ9R",
     "issued": {
      "month": 12,
      "year": 2016
     },
     "page": "3245-3249",
     "page-first": "3245",
     "shortTitle": "Exploring archives with probabilistic models",
     "title": "Exploring archives with probabilistic models: Topic modelling for the valorisation of digitised archives of the European Commission",
     "title-short": "Exploring archives with probabilistic models",
     "type": "paper-conference"
    },
    "626961/WA2GBZDB": {
     "DOI": "10.18637/jss.v091.i02",
     "URL": "https://doi.org/10.18637/jss.v091.i02",
     "abstract": "This paper demonstrates how to use the R package stm for structural topic modeling. The structural topic model allows researchers to flexibly estimate a topic model that includes document-level metadata. Estimation is accomplished through a fast variational approximation. The stm package provides many useful features, including rich ways to explore topics, estimate uncertainty, and visualize quantities of interest.",
     "accessed": {
      "day": 7,
      "month": 1,
      "year": 2022
     },
     "author": [
      {
       "family": "Roberts",
       "given": "Margaret E."
      },
      {
       "family": "Stewart",
       "given": "Brandon M."
      },
      {
       "family": "Tingley",
       "given": "Dustin"
      }
     ],
     "container-title": "Journal of Statistical Software",
     "id": "626961/WA2GBZDB",
     "issued": {
      "day": 31,
      "month": 10,
      "year": 2019
     },
     "language": "en",
     "page": "1-40",
     "page-first": "1",
     "shortTitle": "stm",
     "title": "stm: An R Package for Structural Topic Models",
     "title-short": "stm",
     "type": "article-journal",
     "volume": "91"
    },
    "626961/ZHQ5UL8D": {
     "abstract": "There is a small but growing literature on large-scale statistical modeling of Chinese language texts. Ouyang analyzed a corpus of over 40,000 ancient documents downloaded from multiple sources. This was used to plot the temporal distributions of word frequencies and geographic distributions of authors. Huang and Yu modeled the SongCi poetry corpus, first converting it to tonally marked pinyin to conserve poetically important pronunciation information. Nichols and colleagues reported initial modeling of the Chinese Text Project corpus1 in a conference paper. (Further below, we describe differences between this corpus and the Handian.) With additional collaborators, this group has now conducted two studies that are currently unpublished but under review. In the first, they apply topic models to address scholarly questions about the relationships among important texts of Ancient Chinese philosophy. In the second, they use topic modeling to investigate the concepts of mind and body in ancient Chinese philosophy. Although we share similar scholarly objectives with these researchers, our approach in this paper is unique in that for the first time anywhere we bring the benefits of computational modeling of ancient Chinese texts to a robust public platform that is mirrored on both sides of the Pacific. Besides being just a useful portal to the texts, our approach foregrounds the interpretive issues surrounding topic models, and makes more sophisticated exploration and analysis of interpretive questions possible for experts and novices alike.",
     "accessed": {
      "day": 13,
      "month": 8,
      "year": 2021
     },
     "author": [
      {
       "family": "Allen",
       "given": "Colin"
      },
      {
       "family": "Luo",
       "given": "Hongliang"
      },
      {
       "family": "Murdock",
       "given": "Jaimie"
      },
      {
       "family": "Pu",
       "given": "Jianghuai"
      },
      {
       "family": "Wang",
       "given": "Xiaohong"
      },
      {
       "family": "Zhai",
       "given": "Yanjie"
      },
      {
       "family": "Zhao",
       "given": "Kun"
      }
     ],
     "container-title": "Journal of Cultural Analytics",
     "container-title-short": "Journal of Cultural Analytics",
     "id": "626961/ZHQ5UL8D",
     "issue": "2",
     "issued": {
      "day": 12,
      "month": 10,
      "year": 2017
     },
     "journalAbbreviation": "Journal of Cultural Analytics",
     "language": "en",
     "note": "Publisher: Department of Languages, Literatures, and Cultures",
     "page": "11882",
     "page-first": "11882",
     "title": "Topic Modeling the Hàn diăn Ancient Classics (Handian guji 汉典古籍)",
     "type": "article-journal",
     "volume": "1"
    },
    "626961/ZV9JTLAI": {
     "DOI": "10.1017/S0305741021000217",
     "URL": "https://www.cambridge.org/core/journals/china-quarterly/article/abs/creating-public-opinion-advancing-knowledge-engaging-in-politics-the-local-public-sphere-in-chengdu-18981921/8535AA196E49C6C4A6C57C8E74733790",
     "abstract": "Situated far from coastal cities and foreign concessions, Chengdu yields insights into the role of the local press and its specific publics in the political evolution of the late Qing and early Republic. Despite its remote location, Chengdu developed its own modern press in the late Qing, relying on print entrepreneurs and modern journalists recruited from the ranks of the local literati and traditional sociability, in particular teahouses. They all played a role in forming a modern reading public which came to understand itself as a distinct local political community in dynamic interaction with national politics and transnational networks. The local press evinced three successive but intertwined ideals of publicness: as a link between the state and the people and a vector of enlightenment, as a professional forum for public opinion and as a tool for political mobilization. In solidifying public opinion around the local community, the press served as a forum and catalyst for political activism in the 1911 Railroad Protection movement and the 1919 May Fourth movement, events which were shaped as much by local dynamics as they were by national developments., 摘要成都远离沿海城市和外国租界，因此就早期地方报刊及其特定公众在民国初年政治演变中的角色而言，可带来新视角。尽管地处偏僻，但从晚清开始，成都借着印刷企业家、从当地文人招揽而来的现代记者，以及传统公共场所（如茶馆），自行发展出成熟的现代报业。这些群体合力营造出现代读者公众，将自己视为一个独特的地方政治共同体。在1911年的保路运动和1919年的五四运动中，地方报业成为政治活动的论坛，起了推波助澜的作用。这个案例突显出国家政治、跨国关系网络和地方社团之间的复杂关联。",
     "accessed": {
      "day": 22,
      "month": 9,
      "year": 2022
     },
     "author": [
      {
       "family": "Veg",
       "given": "Sebastian"
      }
     ],
     "container-title": "The China Quarterly",
     "id": "626961/ZV9JTLAI",
     "issued": {
      "month": 6,
      "year": 2021
     },
     "language": "en",
     "page": "331-353",
     "page-first": "331",
     "shortTitle": "Creating Public Opinion, Advancing Knowledge, Engaging in Politics",
     "title": "Creating Public Opinion, Advancing Knowledge, Engaging in Politics: The Local Public Sphere in Chengdu, 1898–1921",
     "title-short": "Creating Public Opinion, Advancing Knowledge, Engaging in Politics",
     "type": "article-journal",
     "volume": "246"
    },
    "undefined": {
     "URL": "https://aclanthology.org/W11-1513",
     "accessed": {
      "day": 5,
      "month": 8,
      "year": 2022
     },
     "author": [
      {
       "family": "Yang",
       "given": "Tze-I"
      },
      {
       "family": "Torget",
       "given": "Andrew"
      },
      {
       "family": "Mihalcea",
       "given": "Rada"
      }
     ],
     "container-title": "Proceedings of the 5th ACL-HLT Workshop on Language Technology for Cultural Heritage, Social Sciences, and Humanities",
     "event-place": "Portland, OR, USA",
     "id": "undefined",
     "issued": {
      "month": 6,
      "year": 2011
     },
     "page": "96–104",
     "page-first": "96",
     "publisher": "Association for Computational Linguistics",
     "publisher-place": "Portland, OR, USA",
     "title": "Topic Modeling on Historical Newspapers",
     "type": "paper-conference"
    }
   }
  },
  "kernelspec": {
   "display_name": "R",
   "language": "R",
   "name": "ir"
  },
  "language_info": {
   "codemirror_mode": "r",
   "file_extension": ".r",
   "mimetype": "text/x-r-source",
   "name": "R",
   "pygments_lexer": "r",
   "version": "4.0.4"
  },
  "toc": {
   "base_numbering": 1,
   "nav_menu": {},
   "number_sections": true,
   "sideBar": true,
   "skip_h1_title": false,
   "title_cell": "Table of Contents",
   "title_sidebar": "Contents",
   "toc_cell": false,
   "toc_position": {},
   "toc_section_display": true,
   "toc_window_display": false
  }
 },
 "nbformat": 4,
 "nbformat_minor": 4
}
